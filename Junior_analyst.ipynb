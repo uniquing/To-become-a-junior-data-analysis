{
  "nbformat": 4,
  "nbformat_minor": 0,
  "metadata": {
    "colab": {
      "name": "Junior analyst.ipynb",
      "provenance": [],
      "collapsed_sections": [],
      "toc_visible": true,
      "authorship_tag": "ABX9TyNNqV36voc2saAv7A+LK9tp",
      "include_colab_link": true
    },
    "kernelspec": {
      "name": "python3",
      "display_name": "Python 3"
    }
  },
  "cells": [
    {
      "cell_type": "markdown",
      "metadata": {
        "id": "view-in-github",
        "colab_type": "text"
      },
      "source": [
        "<a href=\"https://colab.research.google.com/github/uniquing/To-become-a-junior-data-analysis/blob/main/Junior_analyst.ipynb\" target=\"_parent\"><img src=\"https://colab.research.google.com/assets/colab-badge.svg\" alt=\"Open In Colab\"/></a>"
      ]
    },
    {
      "cell_type": "markdown",
      "metadata": {
        "id": "uiq-M1hbZ3BO"
      },
      "source": [
        "### XML擷取"
      ]
    },
    {
      "cell_type": "code",
      "metadata": {
        "id": "Z5m-MQz_Z9D7"
      },
      "source": [
        "import requests\n",
        "# 利用7-11電子地圖查看台北門市\n",
        "# 進行 POST 請求時要攜帶資料\n",
        "form_data = {\n",
        "    \"commandid\": \"GetTown\",\n",
        "    \"cityid\": \"01\"\n",
        "}\n",
        "request_url = \"https://emap.pcsc.com.tw/EMapSDK.aspx\"\n",
        "response = requests.post(request_url, data=form_data)"
      ],
      "execution_count": null,
      "outputs": []
    },
    {
      "cell_type": "code",
      "metadata": {
        "id": "fUYg5hRZa6QW",
        "outputId": "0365f684-5e8d-4910-9f97-075cc6b893ab",
        "colab": {
          "base_uri": "https://localhost:8080/",
          "height": 54
        }
      },
      "source": [
        "response_content=response.content\n",
        "print(response_content)"
      ],
      "execution_count": null,
      "outputs": [
        {
          "output_type": "stream",
          "text": [
            "b'<?xml version=\"1.0\" encoding=\"utf-8\"?><iMapSDKOutput><MessageID>00000</MessageID><CommandID>GetTown</CommandID><Status>\\xe9\\x80\\xa3\\xe7\\xb7\\x9a\\xe6\\x88\\x90\\xe5\\x8a\\x9f</Status><TimeStamp>2020/5/31 \\xe4\\xb8\\x8b\\xe5\\x8d\\x88 02:28:36</TimeStamp><GeoPosition><TownID>01</TownID><TownName>\\xe6\\x9d\\xbe\\xe5\\xb1\\xb1\\xe5\\x8d\\x80</TownName><X>121577218</X><Y>25049837</Y></GeoPosition><GeoPosition><TownID>02</TownID><TownName>\\xe4\\xbf\\xa1\\xe7\\xbe\\xa9\\xe5\\x8d\\x80</TownName><X>121567161</X><Y>25033147</Y></GeoPosition><GeoPosition><TownID>03</TownID><TownName>\\xe5\\xa4\\xa7\\xe5\\xae\\x89\\xe5\\x8d\\x80</TownName><X>121534593</X><Y>25026482</Y></GeoPosition><GeoPosition><TownID>04</TownID><TownName>\\xe4\\xb8\\xad\\xe5\\xb1\\xb1\\xe5\\x8d\\x80</TownName><X>121533655</X><Y>25064427</Y></GeoPosition><GeoPosition><TownID>05</TownID><TownName>\\xe4\\xb8\\xad\\xe6\\xad\\xa3\\xe5\\x8d\\x80</TownName><X>121518245</X><Y>25032251</Y></GeoPosition><GeoPosition><TownID>06</TownID><TownName>\\xe5\\xa4\\xa7\\xe5\\x90\\x8c\\xe5\\x8d\\x80</TownName><X>121515830</X><Y>25066142</Y></GeoPosition><GeoPosition><TownID>07</TownID><TownName>\\xe8\\x90\\xac\\xe8\\x8f\\xaf\\xe5\\x8d\\x80</TownName><X>121499745</X><Y>25034807</Y></GeoPosition><GeoPosition><TownID>08</TownID><TownName>\\xe6\\x96\\x87\\xe5\\xb1\\xb1\\xe5\\x8d\\x80</TownName><X>121570280</X><Y>24989800</Y></GeoPosition><GeoPosition><TownID>09</TownID><TownName>\\xe5\\x8d\\x97\\xe6\\xb8\\xaf\\xe5\\x8d\\x80</TownName><X>121607043</X><Y>25054684</Y></GeoPosition><GeoPosition><TownID>10</TownID><TownName>\\xe5\\x85\\xa7\\xe6\\xb9\\x96\\xe5\\x8d\\x80</TownName><X>121589471</X><Y>25069353</Y></GeoPosition><GeoPosition><TownID>11</TownID><TownName>\\xe5\\xa3\\xab\\xe6\\x9e\\x97\\xe5\\x8d\\x80</TownName><X>121525380</X><Y>25090430</Y></GeoPosition><GeoPosition><TownID>12</TownID><TownName>\\xe5\\x8c\\x97\\xe6\\x8a\\x95\\xe5\\x8d\\x80</TownName><X>121503066</X><Y>25132054</Y></GeoPosition></iMapSDKOutput>'\n"
          ],
          "name": "stdout"
        }
      ]
    },
    {
      "cell_type": "code",
      "metadata": {
        "id": "iGucw23xcc7S",
        "outputId": "02f64c2f-e873-4399-c11b-f92701594a9d",
        "colab": {
          "base_uri": "https://localhost:8080/",
          "height": 34
        }
      },
      "source": [
        "print(type(response_content))"
      ],
      "execution_count": null,
      "outputs": [
        {
          "output_type": "stream",
          "text": [
            "<class 'bytes'>\n"
          ],
          "name": "stdout"
        }
      ]
    },
    {
      "cell_type": "code",
      "metadata": {
        "id": "Ekl8QS_8dS_j",
        "outputId": "83bcddf7-c71a-4130-ad2a-4c6283e21360",
        "colab": {
          "base_uri": "https://localhost:8080/",
          "height": 54
        }
      },
      "source": [
        "from lxml import etree\n",
        "from io import BytesIO\n",
        "\n",
        "file = BytesIO(response_content)\n",
        "tree = etree.parse(file)\n",
        "Towns_names = [e.text for e in tree.xpath(\"//TownName\")]\n",
        "print(Towns_names)"
      ],
      "execution_count": null,
      "outputs": [
        {
          "output_type": "stream",
          "text": [
            "['松山區', '信義區', '大安區', '中山區', '中正區', '大同區', '萬華區', '文山區', '南港區', '內湖區', '士林區', '北投區']\n"
          ],
          "name": "stdout"
        }
      ]
    },
    {
      "cell_type": "code",
      "metadata": {
        "id": "xfEXAPL6e3hg",
        "outputId": "362d47f8-b315-41c5-e09d-dbd9b8b32fa8",
        "colab": {
          "base_uri": "https://localhost:8080/",
          "height": 54
        }
      },
      "source": [
        "import requests\n",
        "from lxml import etree\n",
        "from io import BytesIO\n",
        "#查看台北松山區\n",
        "#進行 POST 請求時要攜帶資料\n",
        "form_data = {\n",
        "    \"commandid\": \"SearchRoad\",\n",
        "    \"city\": \"台北市\",\n",
        "    \"town\": \"松山區\"\n",
        "}\n",
        "request_url = \"https://emap.pcsc.com.tw/EMapSDK.aspx\"\n",
        "response = requests.post(request_url, data=form_data)\n",
        "\n",
        "file = BytesIO(response.content)\n",
        "tree = etree.parse(file)\n",
        "Road_names = [e.text for e in tree.xpath(\"//rd_name_1\")]\n",
        "print(Road_names)"
      ],
      "execution_count": null,
      "outputs": [
        {
          "output_type": "stream",
          "text": [
            "['八德路', '八德路', '八德路', '三民路', '北寧路', '市民大道', '民生東路', '民生東路', '民生東路', '民權東路', '光復北路', '延吉街', '延壽街', '東興路', '南京東路', '南京東路', '南京東路', '健康路', '復興北路', '復興南路', '敦化北路', '敦化南路', '塔悠路', '新東街', '寧安街', '慶城街', '撫遠街', '寶清街']\n"
          ],
          "name": "stdout"
        }
      ]
    },
    {
      "cell_type": "code",
      "metadata": {
        "id": "77zwI1LRg1h5",
        "outputId": "09fed001-fd4a-41de-8ba9-208ccddac8b6",
        "colab": {
          "base_uri": "https://localhost:8080/",
          "height": 34
        }
      },
      "source": [
        "import requests\n",
        "from lxml import etree\n",
        "from io import BytesIO\n",
        "#查看八德路段有哪些門市\n",
        "#進行 POST 請求時要攜帶資料\n",
        "form_data = {\n",
        "    \"commandid\": \"SearchStore\",\n",
        "    \"city\": \"台北市\",\n",
        "    \"town\": \"松山區\",\n",
        "    \"roadname\":\"八德路二段\"\n",
        "}\n",
        "request_url = \"https://emap.pcsc.com.tw/EMapSDK.aspx\"\n",
        "response = requests.post(request_url, data=form_data)\n",
        "\n",
        "file = BytesIO(response.content)\n",
        "tree = etree.parse(file)\n",
        "Store_names = [e.text for e in tree.xpath(\"//POIName\")]\n",
        "print(Store_names)"
      ],
      "execution_count": null,
      "outputs": [
        {
          "output_type": "stream",
          "text": [
            "['庫德', '清愿']\n"
          ],
          "name": "stdout"
        }
      ]
    },
    {
      "cell_type": "code",
      "metadata": {
        "id": "kEU7N382i_r_",
        "outputId": "17c376c1-4ba8-4d3f-fb76-0102c3a20d3a",
        "colab": {
          "base_uri": "https://localhost:8080/",
          "height": 54
        }
      },
      "source": [
        "from lxml import etree\n",
        "from io import BytesIO\n",
        "\n",
        "file = BytesIO(response_content)\n",
        "tree = etree.parse(file)\n",
        "town_names = [t.text for t in tree.xpath(\"//TownName\")] # XPath 亦可以指定 /iMapSDKOutput/GeoPosition/TownName\n",
        "print(town_names)"
      ],
      "execution_count": null,
      "outputs": [
        {
          "output_type": "stream",
          "text": [
            "['松山區', '信義區', '大安區', '中山區', '中正區', '大同區', '萬華區', '文山區', '南港區', '內湖區', '士林區', '北投區']\n"
          ],
          "name": "stdout"
        }
      ]
    },
    {
      "cell_type": "code",
      "metadata": {
        "id": "VYRXVRYfirQy",
        "outputId": "3fa04d07-feb3-416a-b50d-edb4d24d640f",
        "colab": {
          "base_uri": "https://localhost:8080/",
          "height": 218
        }
      },
      "source": [
        "#寫成完整Code\n",
        "\n",
        "import time\n",
        "import random\n",
        "\n",
        "tp_711_stores = {}\n",
        "for town in town_names:\n",
        "    form_data = {\n",
        "        \"commandid\": \"SearchStore\",\n",
        "        \"city\": \"台北市\",\n",
        "        \"town\": town\n",
        "    }\n",
        "    r = requests.post(\"https://emap.pcsc.com.tw/EMapSDK.aspx\", data=form_data)\n",
        "    f = BytesIO(r.content)\n",
        "    tree = etree.parse(f)\n",
        "    poi_ids = [t.text.strip() for t in tree.xpath(\"//POIID\")]\n",
        "    poi_names = [t.text for t in tree.xpath(\"//POIName\")]\n",
        "    lons = [float(t.text)/1000000 for t in tree.xpath(\"//X\")]\n",
        "    lats = [float(t.text)/1000000 for t in tree.xpath(\"//Y\")]\n",
        "    adds = [t.text for t in tree.xpath(\"//Address\")]\n",
        "    tp_711_stores[town] = []\n",
        "    for poi_id, poi_name, lon, lat, add in zip(poi_ids, poi_names, lons, lats, adds):\n",
        "        store_info = {\n",
        "            \"POIID\": poi_id,\n",
        "            \"POIName\": poi_name,\n",
        "            \"Longitude\": lon,\n",
        "            \"Latitude\": lat,\n",
        "            \"Address\": add\n",
        "        }\n",
        "        tp_711_stores[town].append(store_info)\n",
        "    time.sleep(random.randint(1, 6))\n",
        "    print(\"Scraping {}\".format(town))"
      ],
      "execution_count": null,
      "outputs": [
        {
          "output_type": "stream",
          "text": [
            "Scraping 松山區\n",
            "Scraping 信義區\n",
            "Scraping 大安區\n",
            "Scraping 中山區\n",
            "Scraping 中正區\n",
            "Scraping 大同區\n",
            "Scraping 萬華區\n",
            "Scraping 文山區\n",
            "Scraping 南港區\n",
            "Scraping 內湖區\n",
            "Scraping 士林區\n",
            "Scraping 北投區\n"
          ],
          "name": "stdout"
        }
      ]
    },
    {
      "cell_type": "code",
      "metadata": {
        "id": "d6i2xu3LjTTP",
        "outputId": "94f57034-a3b6-4dd3-d8a6-78bb94578d2a",
        "colab": {
          "base_uri": "https://localhost:8080/",
          "height": 101
        }
      },
      "source": [
        "tp_711_stores[\"松山區\"][2]"
      ],
      "execution_count": null,
      "outputs": [
        {
          "output_type": "execute_result",
          "data": {
            "text/plain": [
              "{'Address': '台北市松山區八德路三段27號',\n",
              " 'Latitude': 25.048396,\n",
              " 'Longitude': 121.552737,\n",
              " 'POIID': '960661',\n",
              " 'POIName': '中崙'}"
            ]
          },
          "metadata": {
            "tags": []
          },
          "execution_count": 19
        }
      ]
    },
    {
      "cell_type": "markdown",
      "metadata": {
        "id": "uycJOXWutWIn"
      },
      "source": [
        "### 擷取IMDB網頁資料"
      ]
    },
    {
      "cell_type": "code",
      "metadata": {
        "id": "orcxy5boNF8k"
      },
      "source": [
        "import requests\n",
        "from bs4 import BeautifulSoup\n",
        "\n",
        "def get_movie_data(movie_url):\n",
        "    movie_title_cs=\"h1\"\n",
        "    movie_poster_cs=\".poster img\"\n",
        "    movie_rating_cs=\"strong span\"\n",
        "    movie_release_cs=\".subtext a\"\n",
        "    movie_cast_cs=\".primary_photo+ td a\"\n",
        "    \n",
        "    response = requests.get(movie_url)\n",
        "    soup = BeautifulSoup(response.text)\n",
        "    \n",
        "    movie_title= soup.select(movie_title_cs)[0].text.replace(\"\\xa0\",\" \").strip()\n",
        "    \n",
        "    movie_poster=soup.select(movie_poster_cs)[0].get(\"src\")\n",
        "\n",
        "    movie_rating=float(soup.select(movie_rating_cs)[0].text)\n",
        "\n",
        "    genre=[soup.text for soup in soup.select(movie_release_cs)][0:3]\n",
        "    \n",
        "    movie_release=soup.select(movie_release_cs)[3].text.rstrip()\n",
        "\n",
        "    movie_cast=[e.text.strip() for e in soup.select(movie_cast_cs)]\n",
        "\n",
        "    movie_data={\n",
        "        \"movieTitle\": movie_title,\n",
        "        \"moviePoster\": movie_poster,\n",
        "        \"movieRating\": movie_rating,\n",
        "        \"movieGenre\": genre,\n",
        "        \"movieReleaseDate\": movie_release,\n",
        "        \"movie_cast\": movie_cast\n",
        "    }\n",
        "    return movie_data"
      ],
      "execution_count": null,
      "outputs": []
    },
    {
      "cell_type": "markdown",
      "metadata": {
        "id": "oQLx_bUuFwfs"
      },
      "source": [
        "### 利用關鍵字取代網頁搜尋"
      ]
    },
    {
      "cell_type": "code",
      "metadata": {
        "id": "DXNf2LMn8z76"
      },
      "source": [
        "import requests\n",
        "from bs4 import BeautifulSoup\n",
        "\n",
        "def get_movie_data(name):\n",
        "    movie_title_cs=\"h1\"\n",
        "    movie_poster_cs=\".poster img\"\n",
        "    movie_rating_cs=\"strong span\"\n",
        "    movie_release_cs=\".subtext a\"\n",
        "    movie_cast_cs=\".primary_photo+ td a\"\n",
        "    result_text_cs=\".result_text > a\"\n",
        "\n",
        "    query_string_parameters = {\n",
        "    'q': name,\n",
        "    'ref_': 'nv_sr_sm'\n",
        "    }\n",
        "\n",
        "    request_url= \"https://www.imdb.com/find\"\n",
        "    response=requests.get(request_url, params=query_string_parameters) \n",
        "    soup= BeautifulSoup(response.text)\n",
        "\n",
        "    result_text_href = [e.get(\"href\") for e in soup.select(result_text_cs)]\n",
        "    movie_href=result_text_href[0]\n",
        "    movie_url=\"http://www.imdb.com{}\".format(movie_href)\n",
        "\n",
        "    response = requests.get(movie_url)\n",
        "    soup = BeautifulSoup(response.text)\n",
        "    \n",
        "    movie_title= soup.select(movie_title_cs)[0].text.replace(\"\\xa0\",\" \").strip()\n",
        "    \n",
        "    movie_poster=soup.select(movie_poster_cs)[0].get(\"src\")\n",
        "\n",
        "    movie_rating=float(soup.select(movie_rating_cs)[0].text)\n",
        "\n",
        "    genre=[soup.text for soup in soup.select(movie_release_cs)][0:3]\n",
        "    \n",
        "    movie_release=soup.select(movie_release_cs)[3].text.rstrip()\n",
        "\n",
        "    movie_cast=[e.text.strip() for e in soup.select(movie_cast_cs)]\n",
        "\n",
        "    movie_data={\n",
        "        \"movieTitle\": movie_title,\n",
        "        \"moviePoster\": movie_poster,\n",
        "        \"movieRating\": movie_rating,\n",
        "        \"movieGenre\": genre,\n",
        "        \"movieReleaseDate\": movie_release,\n",
        "        \"movie_cast\": movie_cast\n",
        "    }\n",
        "    return movie_data\n",
        "\n"
      ],
      "execution_count": null,
      "outputs": []
    },
    {
      "cell_type": "code",
      "metadata": {
        "id": "b7jP5ehdCZA_",
        "outputId": "076fc6d5-81d5-4952-8ea5-1df251d55a71",
        "colab": {
          "base_uri": "https://localhost:8080/",
          "height": 138
        }
      },
      "source": [
        "get_movie_data(\"https://www.imdb.com/title/tt0451279/\")"
      ],
      "execution_count": null,
      "outputs": [
        {
          "output_type": "execute_result",
          "data": {
            "text/plain": [
              "{'movieGenre': ['Action', 'Adventure', 'Fantasy'],\n",
              " 'moviePoster': 'https://m.media-amazon.com/images/M/MV5BNDFmZjgyMTEtYTk5MC00NmY0LWJhZjktOWY2MzI5YjkzODNlXkEyXkFqcGdeQXVyMDA4NzMyOA@@._V1_UX182_CR0,0,182,268_AL_.jpg',\n",
              " 'movieRating': 7.4,\n",
              " 'movieReleaseDate': '2 June 2017 (USA)',\n",
              " 'movieTitle': 'Wonder Woman (2017)',\n",
              " 'movie_cast': []}"
            ]
          },
          "metadata": {
            "tags": []
          },
          "execution_count": 2
        }
      ]
    },
    {
      "cell_type": "code",
      "metadata": {
        "id": "mfHw8ZEEA78U",
        "outputId": "9ec77afc-4f36-491d-d1cd-0bdc6c23a15f",
        "colab": {
          "base_uri": "https://localhost:8080/",
          "height": 138
        }
      },
      "source": [
        "get_movie_data(\"wonder woman\")"
      ],
      "execution_count": null,
      "outputs": [
        {
          "output_type": "execute_result",
          "data": {
            "text/plain": [
              "{'movieGenre': ['Action', 'Adventure', 'Fantasy'],\n",
              " 'moviePoster': 'https://m.media-amazon.com/images/M/MV5BNDFmZjgyMTEtYTk5MC00NmY0LWJhZjktOWY2MzI5YjkzODNlXkEyXkFqcGdeQXVyMDA4NzMyOA@@._V1_UX182_CR0,0,182,268_AL_.jpg',\n",
              " 'movieRating': 7.4,\n",
              " 'movieReleaseDate': '2 June 2017 (USA)',\n",
              " 'movieTitle': 'Wonder Woman (2017)',\n",
              " 'movie_cast': []}"
            ]
          },
          "metadata": {
            "tags": []
          },
          "execution_count": 31
        }
      ]
    },
    {
      "cell_type": "code",
      "metadata": {
        "id": "JOYSROr4FapV",
        "outputId": "c24caf11-bacb-4af1-d32f-bc11141cc96b",
        "colab": {
          "base_uri": "https://localhost:8080/",
          "height": 138
        }
      },
      "source": [
        "get_movie_data(\"Avenger: Endgame\")"
      ],
      "execution_count": null,
      "outputs": [
        {
          "output_type": "execute_result",
          "data": {
            "text/plain": [
              "{'movieGenre': ['Action', 'Adventure', 'Drama'],\n",
              " 'moviePoster': 'https://m.media-amazon.com/images/M/MV5BMTc5MDE2ODcwNV5BMl5BanBnXkFtZTgwMzI2NzQ2NzM@._V1_UX182_CR0,0,182,268_AL_.jpg',\n",
              " 'movieRating': 8.4,\n",
              " 'movieReleaseDate': '26 April 2019 (USA)',\n",
              " 'movieTitle': 'Avengers: Endgame (2019)',\n",
              " 'movie_cast': []}"
            ]
          },
          "metadata": {
            "tags": []
          },
          "execution_count": 34
        }
      ]
    },
    {
      "cell_type": "markdown",
      "metadata": {
        "id": "IaN9-5YsVtvv"
      },
      "source": [
        "### 擷取華航機上所有電影清單"
      ]
    },
    {
      "cell_type": "code",
      "metadata": {
        "id": "vs_5xfV6Vo3k",
        "outputId": "0f47bee8-c3a9-4ae2-f73a-d5703cbb5729",
        "colab": {
          "base_uri": "https://localhost:8080/",
          "height": 70
        }
      },
      "source": [
        "import requests\n",
        "from bs4 import BeautifulSoup\n",
        "request_url=\"http://www.fantasy-sky.com/ContentList.aspx\"\n",
        "\n",
        "airline_movie_cs=\".movies-name\"\n",
        "\n",
        "airline_cookies={\n",
        "    \"COOKIE_LANGUAGE\":\"en\"\n",
        "}\n",
        "\n",
        "ca_movies_name=[]\n",
        "for i in range(1,5):\n",
        "  query_string_parameters={\n",
        "      \"section\": \"002\",\n",
        "      \"category\": \"0020{}\".format(i)\n",
        "      }\n",
        "\n",
        "  response = requests.get(request_url, params=query_string_parameters, cookies=airline_cookies)\n",
        "  soup=BeautifulSoup(response.text)\n",
        "  movies_name=[e.text for e in soup.select(airline_movie_cs)]\n",
        "  ca_movies_name+=movies_name\n",
        "\n",
        "print(ca_movies_name)\n",
        "print(len(ca_movies_name))\n",
        "\n"
      ],
      "execution_count": null,
      "outputs": [
        {
          "output_type": "stream",
          "text": [
            "['1917', 'Just Mercy', 'Wendy', 'Bad Boys for Life', 'Disney and Pixar’s Onward', 'The Call of the Wild', 'Star Wars: The Rise of Skywalker', 'Sonic the Hedgehog', 'Somewhere Winter', 'Detention', 'Little Women', 'Dark Waters', 'Spies in Disguise', 'The Good Liar', 'The Informer', 'Underwater', 'Talking the Pictures', 'Kim Ji-young: Born 1982', 'Miyamoto', 'One Piece Stampede', 'Special Actors', 'We Are Little Zombies', 'Better Days', 'Guilt By Design', 'Synapses', 'At the End of the Matinee', 'Parasite', 'Oh Mercy!', 'Cheer Up, Mr. Lee', 'Uri: The Surgical Strike', 'Papicha', 'The Specials', 'The Book of Life', 'Big Hero 6', 'Night at the Museum: Secret…', 'Frozen', 'Disney and Pixar’s Finding Dory', 'Shark Tale', 'DISNEY AND PIXAR’S Inside Out', 'Disney and Pixar’s The Good Dinosaur', \"Tim Burton's Corpse Bride\", 'Smallfoot', 'Disney and Pixar’s Incredibles 2', 'Ferdinand', 'A Sun', 'A Witness out of the Blue', 'Jade Dynasty', 'Fagara', 'Integrity', 'The Last Thieves', \"Aesop's Game\", 'The Confidence Man JP: The Movie', \"Ossan's Love The Movie …\", 'Ramen Shop', 'The Fable', 'House of Hummingbird', 'Money', 'My First Client', 'My Masterpiece', 'The Bad Guys: Reign of Chaos', 'The Lift Boy', 'Yves', 'The Devotion Of Suspect X', 'Wawa No Cidal', 'Xiao Mei', 'Mad World', 'Big Brother', 'The Adventurers', 'Library Wars: The Last Mission', 'A Faithful Man', 'A Man Called Ove', 'La Famille Belier', 'Me Before You', 'The Post', 'August: Osage County', 'Tomorrowland', 'Goodbye Christopher Robin', 'Ready Player One', 'Tomb Raider', 'The Iron Lady', 'Star Wars: The Force Awakens', 'Star Wars: The Last…', \"Bridget Jones's Baby\", 'Beauty and the Beast', 'Johnny English Reborn', 'Get Out', 'The Great Wall', 'The Revenant', 'American Made', 'Home Again', 'The Help', 'Joker', 'Avengers: Infinity War', 'Avengers: Age of Ultron', 'Jumanji: Welcome to the Jungle', 'The Disaster Artist', 'Before I Fall', 'The Avengers', 'Godzilla', 'Inception', 'Chef', 'Spider-ManTM: Homecoming', 'Catch Me If You Can', 'Bridge of Spies', 'John Wick', 'The Lost City of Z', 'Love the Coopers', 'Love Actually', \"A Dog's Purpose\", 'Black Swan', 'The Great Gatsby', 'London Has Fallen', 'Disney’s Maleficent', 'Iron Man', 'Iron Man 2', 'Iron Man 3', 'Captain America: Civil War', 'The Curious Case of Benjamin Button', 'Straight Outta Compton', 'The Book of Henry', 'The Bucket List', 'The Legend of Tarzan', 'Furious 7', 'The Fate of the Furious', 'The Imitation Game', 'The Holiday', 'Zombieland', 'Oblivion', 'Our Brand Is Crisis', 'R.I.P.D.', 'Her', 'Wrath of the Titans', 'The Hobbit: The Battle Of…', 'The Shawshank Redemption', 'The Judge']\n",
            "135\n"
          ],
          "name": "stdout"
        }
      ]
    },
    {
      "cell_type": "code",
      "metadata": {
        "id": "2nBELz-wdnX8"
      },
      "source": [
        "import requests\n",
        "from bs4 import BeautifulSoup\n",
        "\n",
        "def get_movie_data(name):\n",
        "    movie_title_cs=\"h1\"\n",
        "    movie_poster_cs=\".poster img\"\n",
        "    movie_rating_cs=\"strong span\"\n",
        "    movie_release_cs=\".subtext a\"\n",
        "    movie_cast_cs=\".primary_photo+ td a\"\n",
        "    result_text_cs=\".result_text > a\"\n",
        "\n",
        "    query_string_parameters = {\n",
        "    'q': name,\n",
        "    's': 'tt',\n",
        "    'ref_': 'fn_tt'   \n",
        "    }\n",
        "\n",
        "    request_url= \"https://www.imdb.com/find\"\n",
        "    response=requests.get(request_url, params=query_string_parameters) \n",
        "    soup= BeautifulSoup(response.text)\n",
        "\n",
        "    result_text_href = [e.get(\"href\") for e in soup.select(result_text_cs)]\n",
        "    movie_href=result_text_href[0]\n",
        "    movie_url=\"http://www.imdb.com{}\".format(movie_href)\n",
        "\n",
        "    response = requests.get(movie_url)\n",
        "    soup = BeautifulSoup(response.text)\n",
        "    \n",
        "    movie_title= soup.select(movie_title_cs)[0].text.replace(\"\\xa0\",\" \").strip()\n",
        "    \n",
        "    movie_poster=soup.select(movie_poster_cs)[0].get(\"src\")\n",
        "\n",
        "    movie_rating_cs_element_tag=soup.select(movie_rating_cs)[0]\n",
        "    movie_rating=float(movie_rating_cs_element_tag.text)\n",
        "   \n",
        "    genre_all=[]\n",
        "    for soup in soup.select(movie_release_cs):\n",
        "      genre_all.append(soup.text)\n",
        "    length=len(genre_all)\n",
        "    genre=genre_all[0:length-1]   \n",
        "\n",
        "    movie_release=genre_all[-1].rstrip()\n",
        "\n",
        "    movie_cast=[e.text.strip() for e in soup.select(movie_cast_cs)]\n",
        "\n",
        "    movie_data={\n",
        "        \"movieTitle\": movie_title,\n",
        "        \"moviePoster\": movie_poster,\n",
        "        \"movieRating\": movie_rating,\n",
        "        \"movieGenre\": genre,\n",
        "        \"movieReleaseDate\": movie_release,\n",
        "        \"movie_cast\": movie_cast\n",
        "    }\n",
        "    return movie_data"
      ],
      "execution_count": null,
      "outputs": []
    },
    {
      "cell_type": "code",
      "metadata": {
        "id": "T_Xe2OwYEMU6",
        "outputId": "d239fee9-6e6b-4a06-92c3-d7ea795fbb86",
        "colab": {
          "base_uri": "https://localhost:8080/",
          "height": 138
        }
      },
      "source": [
        "get_movie_data(\"Bad Boys For Life (2020)\")"
      ],
      "execution_count": null,
      "outputs": [
        {
          "output_type": "execute_result",
          "data": {
            "text/plain": [
              "{'movieGenre': ['Action', 'Comedy', 'Crime'],\n",
              " 'moviePoster': 'https://m.media-amazon.com/images/M/MV5BMWU0MGYwZWQtMzcwYS00NWVhLTlkZTAtYWVjOTYwZTBhZTBiXkEyXkFqcGdeQXVyMTkxNjUyNQ@@._V1_UX182_CR0,0,182,268_AL_.jpg',\n",
              " 'movieRating': 6.7,\n",
              " 'movieReleaseDate': '17 January 2020 (USA)',\n",
              " 'movieTitle': 'Bad Boys For Life (2020)',\n",
              " 'movie_cast': []}"
            ]
          },
          "metadata": {
            "tags": []
          },
          "execution_count": 5
        }
      ]
    },
    {
      "cell_type": "code",
      "metadata": {
        "id": "1kxlPqaAd79L",
        "outputId": "84907594-2e55-4b00-f15c-9c05d35a1413",
        "colab": {
          "base_uri": "https://localhost:8080/",
          "height": 1000
        }
      },
      "source": [
        "imdb_data=[]\n",
        "for movie in ca_movies_name:\n",
        "    try:\n",
        "      imdb_movie_data=get_movie_data(movie)\n",
        "      imdb_data.append(imdb_movie_data)\n",
        "      imdb_movie_title=imdb_movie_data[\"movieTitle\"]\n",
        "      imdb_movie_rating=imdb_movie_data[\"movieRating\"]\n",
        "      print(imdb_movie_title,imdb_movie_rating)\n",
        "    except:\n",
        "      print(\" {}發生錯誤...\".format(movie))"
      ],
      "execution_count": null,
      "outputs": [
        {
          "output_type": "stream",
          "text": [
            "1917 (2019) 8.3\n",
            "Just Mercy (2019) 7.5\n",
            "Wendy (2020) 5.6\n",
            "Bad Boys For Life (2020) 6.7\n",
            " Disney and Pixar’s Onward發生錯誤...\n",
            "The Call of the Wild (2020) 6.8\n",
            "Star Wars: Episode IX - The Rise of Skywalker (2019) 6.7\n",
            "Sonic the Hedgehog (2020) 6.6\n",
            "Da yue zai dong ji (2019) 5.7\n",
            "Detention (2011) 5.7\n",
            "Little Women (2019) 7.9\n",
            "Dark Waters (2019) 7.6\n",
            "Spies in Disguise (2019) 6.8\n",
            "The Good Liar (2019) 6.6\n",
            "The Informer (2019) 6.5\n",
            "Underwater (2020) 5.8\n",
            "Katsuben! (2019) 6.4\n",
            "Kim Ji-young: Born 1982 (2019) 7.4\n",
            " Miyamoto發生錯誤...\n",
            "One Piece: Stampede (2019) 7.7\n",
            "Special Actors (2019) 5.9\n",
            "We Are Little Zombies (2019) 6.9\n",
            "Better Days (2019) 7.5\n",
            "Guilt by Design (2019) 5.9\n",
            "Synapses (2019) 6.6\n",
            " At the End of the Matinee發生錯誤...\n",
            "Parasite (2019) 8.6\n",
            "Oh Mercy! (2019) 6.2\n",
            "Himeul naeyo, Miseuteo Lee (2019) 6.8\n",
            "Uri: The Surgical Strike (2019) 8.3\n",
            "Papicha (2019) 7.0\n",
            "The Specials (2019) 7.5\n",
            "The Book of Life (2014) 7.3\n",
            "Big Hero 6 (2014) 7.8\n",
            "Night at the Museum: Secret of the Tomb (2014) 6.2\n",
            "Frozen (2013) 7.4\n",
            " Disney and Pixar’s Finding Dory發生錯誤...\n",
            "Shark Tale (2004) 6.0\n",
            " DISNEY AND PIXAR’S Inside Out發生錯誤...\n",
            " Disney and Pixar’s The Good Dinosaur發生錯誤...\n",
            "Corpse Bride (2005) 7.3\n",
            "Smallfoot (2018) 6.6\n",
            " Disney and Pixar’s Incredibles 2發生錯誤...\n",
            "Ferdinand (2017) 6.7\n",
            "Yang guang pu zhao (2019) 7.6\n",
            "Fan zui xian chang (2019) 6.0\n",
            "Zhu xian I (2019) 5.8\n",
            "Fagara (2019) 6.9\n",
            "Integrity (2019) 5.5\n",
            "The Last Thieves (2019) 8.2\n",
            "Isoppu no Omou Tsubo (2019) 5.9\n",
            "The Confidence Man JP: The Movie (2019) 6.6\n",
            " Ossan's Love The Movie …發生錯誤...\n",
            "Ramen Shop (2018) 6.7\n",
            "The Fable (2019) 6.5\n",
            "House of Hummingbird (2018) 7.3\n",
            "L'Argent (1983) 7.5\n",
            "Eorin uiroein (2019) 7.1\n",
            "Mi obra maestra (2018) 7.1\n",
            "Bad Guys: The Movie (2019) 5.9\n",
            "The Lift Boy (2019) 7.3\n",
            "All About Yves (2019) 5.5\n",
            "Xian yi ren X de xian shen (2017) 6.2\n",
            "Taiyang de haizi (2015) 7.2\n",
            "Xiao Mei (2018) 6.3\n",
            "Mad World (2016) 7.3\n",
            "Big Brother 5.3\n",
            "The Adventurers (1970) 5.5\n",
            "Toshokan sensô: The Last Mission (2015) 5.9\n",
            "A Faithful Man (2018) 6.2\n",
            "A Man Called Ove (2015) 7.7\n",
            "The Bélier Family (2014) 7.3\n",
            "Me Before You (2016) 7.4\n",
            "The Post (2017) 7.2\n",
            "August: Osage County (2013) 7.2\n",
            "Tomorrowland (2015) 6.4\n",
            "Goodbye Christopher Robin (2017) 7.1\n",
            "Ready Player One (2018) 7.5\n",
            "Tomb Raider (2018) 6.3\n",
            "The Iron Lady (2011) 6.4\n",
            "Star Wars: Episode VII - The Force Awakens (2015) 7.9\n",
            "Star Wars: Episode VIII - The Last Jedi (2017) 7.0\n",
            "Bridget Jones's Baby (2016) 6.5\n",
            "Beauty and the Beast (2017) 7.1\n",
            "Johnny English Reborn (2011) 6.3\n",
            "Get Out (2017) 7.7\n",
            "The Great Wall (2016) 5.9\n",
            "The Revenant (2015) 8.0\n",
            "American Made (2017) 7.2\n",
            "The Best Years of Our Lives (1946) 8.0\n",
            "The Help (2011) 8.1\n",
            "Joker (2019) 8.5\n",
            "Avengers: Infinity War (2018) 8.5\n",
            "Avengers: Age of Ultron (2015) 7.3\n",
            "Jumanji: Welcome to the Jungle (2017) 6.9\n",
            "The Disaster Artist (2017) 7.4\n",
            "Before I Fall (2017) 6.4\n",
            "The Avengers (2012) 8.0\n",
            "Godzilla (2014) 6.4\n",
            "Inception (2010) 8.8\n",
            "Chef (2014) 7.3\n",
            "Spider-Man: Homecoming (2017) 7.4\n",
            "Catch Me If You Can (2002) 8.1\n",
            "Bridge of Spies (2015) 7.6\n",
            "John Wick (2014) 7.4\n",
            "The Lost City of Z (2016) 6.6\n",
            "Love the Coopers (2015) 5.8\n",
            "Love Actually (2003) 7.6\n",
            "A Dog's Purpose (2017) 7.2\n",
            "Black Swan (2010) 8.0\n",
            "The Great Gatsby (2013) 7.2\n",
            "London Has Fallen (2016) 5.9\n",
            " Disney’s Maleficent發生錯誤...\n",
            "Iron Man (2008) 7.9\n",
            "Iron Man 2 (2010) 7.0\n",
            "Iron Man Three (2013) 7.2\n",
            "Captain America: Civil War (2016) 7.8\n",
            "The Curious Case of Benjamin Button (2008) 7.8\n",
            "Straight Outta Compton (2015) 7.9\n",
            "The Book of Henry (2017) 6.6\n",
            "The Bucket List (2007) 7.4\n",
            "The Legend of Tarzan (2016) 6.2\n",
            "Furious 7 (2015) 7.2\n",
            "The Fate of the Furious (2017) 6.7\n",
            "The Imitation Game (2014) 8.0\n",
            "The Holiday (2006) 6.9\n",
            "Zombieland (2009) 7.6\n",
            "Oblivion (2013) 7.0\n",
            "Our Brand Is Crisis (2015) 6.1\n",
            "R.I.P.D. (2013) 5.6\n",
            "Her (2013) 8.0\n",
            "Wrath of the Titans (2012) 5.7\n",
            "The Hobbit: The Battle of the Five Armies (2014) 7.4\n",
            "The Shawshank Redemption (1994) 9.3\n",
            "The Judge (2014) 7.4\n"
          ],
          "name": "stdout"
        }
      ]
    },
    {
      "cell_type": "code",
      "metadata": {
        "id": "2N9BJbNz_fpZ",
        "outputId": "f2abf343-0634-4b93-dbd1-ea337fde8255",
        "colab": {
          "base_uri": "https://localhost:8080/",
          "height": 50
        }
      },
      "source": [
        "movie_titles,movie_ratings=[], []\n",
        "for data in imdb_data:\n",
        "  movie_titles.append(data[\"movieTitle\"])\n",
        "  movie_ratings.append(data[\"movieRating\"])\n",
        "print(len(movie_titles))\n",
        "print(len(movie_ratings))"
      ],
      "execution_count": null,
      "outputs": [
        {
          "output_type": "stream",
          "text": [
            "126\n",
            "126\n"
          ],
          "name": "stdout"
        }
      ]
    },
    {
      "cell_type": "code",
      "metadata": {
        "id": "yHuOfwrRIXhI",
        "outputId": "ef888ea3-ec5d-447c-d55e-b29405cf51f8",
        "colab": {
          "base_uri": "https://localhost:8080/",
          "height": 67
        }
      },
      "source": [
        "max_rating=max(movie_ratings)\n",
        "print(max_rating)\n",
        "The_index_best=[]\n",
        "for index, rating in enumerate(movie_ratings):\n",
        "  if rating==max_rating:\n",
        "    print(\"位於{}的評分最高\".format(index))\n",
        "    The_index_best.append(index)\n",
        "print(movie_titles[The_index_best[0]])    "
      ],
      "execution_count": null,
      "outputs": [
        {
          "output_type": "stream",
          "text": [
            "9.3\n",
            "位於123的評分最高\n",
            "The Shawshank Redemption (1994)\n"
          ],
          "name": "stdout"
        }
      ]
    },
    {
      "cell_type": "code",
      "metadata": {
        "id": "JezAx3InMuoR",
        "outputId": "a2cf674b-b3f3-4042-cec7-f5135cd5ccbe",
        "colab": {
          "base_uri": "https://localhost:8080/",
          "height": 402
        }
      },
      "source": [
        "import pandas as pd\n",
        "\n",
        "movie_df=pd.DataFrame()\n",
        "movie_df['movie_title']=movie_titles\n",
        "movie_df[\"movie_rating\"]=movie_ratings\n",
        "movie_df.sort_values(\"movie_rating\",ascending=False)"
      ],
      "execution_count": null,
      "outputs": [
        {
          "output_type": "execute_result",
          "data": {
            "text/html": [
              "<div>\n",
              "<style scoped>\n",
              "    .dataframe tbody tr th:only-of-type {\n",
              "        vertical-align: middle;\n",
              "    }\n",
              "\n",
              "    .dataframe tbody tr th {\n",
              "        vertical-align: top;\n",
              "    }\n",
              "\n",
              "    .dataframe thead th {\n",
              "        text-align: right;\n",
              "    }\n",
              "</style>\n",
              "<table border=\"1\" class=\"dataframe\">\n",
              "  <thead>\n",
              "    <tr style=\"text-align: right;\">\n",
              "      <th></th>\n",
              "      <th>movie_title</th>\n",
              "      <th>movie_rating</th>\n",
              "    </tr>\n",
              "  </thead>\n",
              "  <tbody>\n",
              "    <tr>\n",
              "      <th>123</th>\n",
              "      <td>The Shawshank Redemption (1994)</td>\n",
              "      <td>9.3</td>\n",
              "    </tr>\n",
              "    <tr>\n",
              "      <th>90</th>\n",
              "      <td>Inception (2010)</td>\n",
              "      <td>8.8</td>\n",
              "    </tr>\n",
              "    <tr>\n",
              "      <th>23</th>\n",
              "      <td>Parasite (2019)</td>\n",
              "      <td>8.6</td>\n",
              "    </tr>\n",
              "    <tr>\n",
              "      <th>82</th>\n",
              "      <td>Joker (2019)</td>\n",
              "      <td>8.5</td>\n",
              "    </tr>\n",
              "    <tr>\n",
              "      <th>83</th>\n",
              "      <td>Avengers: Infinity War (2018)</td>\n",
              "      <td>8.5</td>\n",
              "    </tr>\n",
              "    <tr>\n",
              "      <th>...</th>\n",
              "      <td>...</td>\n",
              "      <td>...</td>\n",
              "    </tr>\n",
              "    <tr>\n",
              "      <th>2</th>\n",
              "      <td>Wendy (2020)</td>\n",
              "      <td>5.7</td>\n",
              "    </tr>\n",
              "    <tr>\n",
              "      <th>119</th>\n",
              "      <td>R.I.P.D. (2013)</td>\n",
              "      <td>5.6</td>\n",
              "    </tr>\n",
              "    <tr>\n",
              "      <th>53</th>\n",
              "      <td>All About Yves (2019)</td>\n",
              "      <td>5.5</td>\n",
              "    </tr>\n",
              "    <tr>\n",
              "      <th>41</th>\n",
              "      <td>Integrity (2019)</td>\n",
              "      <td>5.5</td>\n",
              "    </tr>\n",
              "    <tr>\n",
              "      <th>58</th>\n",
              "      <td>The Adventurers (1970)</td>\n",
              "      <td>5.5</td>\n",
              "    </tr>\n",
              "  </tbody>\n",
              "</table>\n",
              "<p>125 rows × 2 columns</p>\n",
              "</div>"
            ],
            "text/plain": [
              "                         movie_title  movie_rating\n",
              "123  The Shawshank Redemption (1994)           9.3\n",
              "90                  Inception (2010)           8.8\n",
              "23                   Parasite (2019)           8.6\n",
              "82                      Joker (2019)           8.5\n",
              "83     Avengers: Infinity War (2018)           8.5\n",
              "..                               ...           ...\n",
              "2                       Wendy (2020)           5.7\n",
              "119                  R.I.P.D. (2013)           5.6\n",
              "53             All About Yves (2019)           5.5\n",
              "41                  Integrity (2019)           5.5\n",
              "58            The Adventurers (1970)           5.5\n",
              "\n",
              "[125 rows x 2 columns]"
            ]
          },
          "metadata": {
            "tags": []
          },
          "execution_count": 17
        }
      ]
    },
    {
      "cell_type": "code",
      "metadata": {
        "id": "FsTL4VsXfjNW"
      },
      "source": [
        "def get_movie_data(search_movie_title):\n",
        "    from selenium import webdriver\n",
        "    #Turn on the firefox driver from desktop\n",
        "    driver_path = \"C:/Users/uniquing/Desktop/geckodriver.exe\"\n",
        "    imdb_home = \"https://www.imdb.com/\"\n",
        "    driver = webdriver.Firefox(executable_path=driver_path) # Use Firefox\n",
        "    driver.get(imdb_home)\n",
        "    #find out the xpath from all section\n",
        "    movie_title_xpth=\"//h1\"\n",
        "    movie_poster_xpth=\"//div[@class='poster']/a/img/@src\"\n",
        "    movie_rating_xpth=\"//div[@class='ratingValue']/strong/span\"\n",
        "    movie_release_xpth=\"//div[@class='subtext']/a\"\n",
        "    movie_cast_xpth=\"//td[2]/a\"\n",
        "    imdb_search_input_xpth=\"//input[@id='suggestion-search']\"\n",
        "    imdb_search_button_xpth=\"//button[@id='suggestion-search-button']\"\n",
        "    imdb_catagory_button_xpth=\"//ul[@class='findTitleSubfilterList']/li[1]/a\"\n",
        "    imdb_results_list_xpth=\"//td[@class='result_text']/a\"\n",
        "\n",
        "    #send request to Firefox\n",
        "    elem=driver.find_element_by_xpath(imdb_search_input_xpth)\n",
        "    #enter the search keys\n",
        "    elem.send_keys(search_movie_title)\n",
        "    #find out the search button\n",
        "    elem=driver.find_element_by_xpath(imdb_search_button_xpth)\n",
        "    elem.click()\n",
        "    #filter the results through catagory\n",
        "    elem=driver.find_element_by_xpath(imdb_catagory_button_xpth)\n",
        "    elem.click()\n",
        "    #find the results list\n",
        "    elems=driver.find_elements_by_xpath(imdb_results_list_xpth)\n",
        "    first_elems=elems[0]\n",
        "    first_elems.click()"
      ],
      "execution_count": null,
      "outputs": []
    },
    {
      "cell_type": "code",
      "metadata": {
        "id": "k_fz30gKiAlp"
      },
      "source": [
        "#movie_title\n",
        "elem=driver.find_element_by_xpath(\"movie_title_xpth\")\n",
        "movie_title=elem.text\n",
        "#movie_poster\n",
        "elem=driver.find_element_by_xpath(\"//div[@class='poster']/a/img\")\n",
        "movie_poster=elem.get_attribute(\"src\")\n",
        "#movie rating\n",
        "elem=driver.find_element_by_xpath(\"//div[@class='ratingValue']/strong/span\")\n",
        "movie_rating=float(elem.text)"
      ],
      "execution_count": null,
      "outputs": []
    },
    {
      "cell_type": "code",
      "metadata": {
        "id": "XJuZObJZjSAa"
      },
      "source": [
        "elems=driver.find_elements_by_xpath(\"//div[@class='subtext']/a\")\n",
        "movie_release=[e.text for e in elems]\n",
        "\n",
        "elems=driver.find_elements_by_xpath(\"//td[2]/a\")\n",
        "movie_cast=[e.text for e in elems]\n",
        "movie_data={\n",
        "    \"movieTitle\":movie_title,\n",
        "    \"moviePoster\":movie_poster,\n",
        "    \"movieRating\":movie_rating,\n",
        "    \"movieRelease\":movie_release,\n",
        "    \"movieCast\":movie_cast\n",
        "}\n",
        "return movie_data"
      ],
      "execution_count": null,
      "outputs": []
    },
    {
      "cell_type": "markdown",
      "metadata": {
        "id": "z_y33wR0bhQa"
      },
      "source": [
        "#  擷取Yahoo Stock資料\n"
      ]
    },
    {
      "cell_type": "code",
      "metadata": {
        "id": "osup-tDggRek",
        "outputId": "8e13eddc-4b03-4de3-e34e-0a78a93e7933",
        "colab": {
          "base_uri": "https://localhost:8080/",
          "height": 73
        }
      },
      "source": [
        "!pip install -U beautifulsoup4"
      ],
      "execution_count": null,
      "outputs": [
        {
          "output_type": "stream",
          "text": [
            "Requirement already up-to-date: beautifulsoup4 in /usr/local/lib/python3.6/dist-packages (4.9.1)\n",
            "Requirement already satisfied, skipping upgrade: soupsieve>1.2 in /usr/local/lib/python3.6/dist-packages (from beautifulsoup4) (2.0.1)\n"
          ],
          "name": "stdout"
        }
      ]
    },
    {
      "cell_type": "code",
      "metadata": {
        "id": "-7IVWpy6gj-5"
      },
      "source": [
        "import requests\n",
        "from bs4 import BeautifulSoup"
      ],
      "execution_count": null,
      "outputs": []
    },
    {
      "cell_type": "code",
      "metadata": {
        "id": "bDOUAXK2hUmz"
      },
      "source": [
        "def get_price_rank():\n",
        "  query_string_parameters={\n",
        "        \"t\": \"pri\",\n",
        "        \"e\": \"tse\",\n",
        "        \"n\": \"100\"\n",
        "    }\n",
        "  url = \"https://tw.stock.yahoo.com/d/i/rank.php\"\n",
        "  response = requests.get(url,params=query_string_parameters)\n",
        "  soup = BeautifulSoup(response.text)\n",
        "\n",
        "  ticker_cs = \".name a\"\n",
        "  price_cs=\".name+ td\"\n",
        "\n",
        "  ticker_names=[e.text for e in soup.select(ticker_cs)]\n",
        "  tickers=[i.split(\" \")[0] for i in ticker_names]\n",
        "  stock_names=[i.split(\" \")[1] for i in ticker_names]\n",
        "  prices = [e.text for e in soup.select(price_cs) ]\n",
        "  \n",
        "  return tickers, stock_names, prices"
      ],
      "execution_count": null,
      "outputs": []
    },
    {
      "cell_type": "code",
      "metadata": {
        "id": "ykLOR1PhtIfT",
        "outputId": "7ed820a8-6efe-4061-ffac-2a0645daaa5d",
        "colab": {
          "base_uri": "https://localhost:8080/",
          "height": 92
        }
      },
      "source": [
        "tickers, stock_names, prices = get_price_rank()\n",
        "print(tickers)\n",
        "print(stock_names)\n",
        "print(prices)"
      ],
      "execution_count": null,
      "outputs": [
        {
          "output_type": "stream",
          "text": [
            "['3008', '6415', '5269', '6409', '6669', '2207', '8454', '3406', '1590', '2454', '2327', '3533', '3661', '1476', '2059', '3563', '2330', '2049', '2912', '2395', '6531', '2227', '2379', '6504', '3653', '8341', '8464', '6230', '9921', '3443', '2357', '2474', '2404', '2345', '1256', '6414', '3665', '3034', '4137', '1325', '1707', '8462', '2492', '9910', '9914', '6670', '3413', '4551', '4968', '6491', '8070', '3130', '8422', '2231', '1477', '2308', '2707', '8016', '8081', '2383', '3023', '6452', '6271', '1537', '3532', '4439', '3515', '6213', '6706', '2360', '2439', '4119', '6715', '3376', '6416', '4766', '4438', '4958', '6666', '1558', '6598', '2939', '8480', '4935', '2458', '4977', '5871', '6533', '3044', '4536', '1760', '1232', '3026', '4763', '6456', '4943', '2723', '6269', '6278', '6464']\n",
            "['大立光', '矽力-KY', '祥碩', '旭隼', '緯穎', '和泰車', '富邦媒', '玉晶光', '亞德客-KY', '聯發科', '國巨', '嘉澤', '世芯-KY', '儒鴻', '川湖', '牧德', '台積電', '上銀', '統一超', '研華', '愛普', '裕日車', '瑞昱', '南六', '健策', '日友', '億豐', '超眾', '巨大', '創意', '華碩', '可成', '漢唐', '智邦', '鮮活果汁-KY', '樺漢', '貿聯-KY', '聯詠', '麗豐-KY', '恆大', '葡萄王', '柏文', '華新科', '豐泰', '美利達', '復盛應用', '京鼎', '智伸科', '立積', '晶碩', '長華', '一零四', '可寧衛', '為升', '聚陽', '台達電', '晶華', '矽創', '致新', '台光電', '信邦', '康友-KY', '同欣電', '廣隆', '台勝科', '冠星-KY', '華擎', '聯茂', '惠特', '致茂', '美律', '旭富', '嘉基', '新日興', '瑞祺電通', '南寶', '廣越', '臻鼎-KY', '羅麗芬-KY', '伸興', 'ABC-KY', '凱羿-KY', '泰昇-KY', '茂林-KY', '義隆', '眾達-KY', '中租-KY', '晶心科', '健鼎', '拓凱', '寶齡富錦', '大統益', '禾伸堂', '材料-KY', 'GIS-KY', '康控-KY', '美食-KY', '台郡', '台表科', '台數科']\n",
            "[]\n"
          ],
          "name": "stdout"
        }
      ]
    },
    {
      "cell_type": "code",
      "metadata": {
        "id": "YS3khTXiu-9A"
      },
      "source": [
        "from statistics import median\n",
        "ky_prices = [price for stock_name, price in zip(stock_names, prices) if \"KY\" in stock_name]\n",
        "print(median(ky_prices))\n",
        "print(len(ky_prices))"
      ],
      "execution_count": null,
      "outputs": []
    },
    {
      "cell_type": "markdown",
      "metadata": {
        "id": "uqSET1_bNN8R"
      },
      "source": [
        "#  NBA球員資料分析"
      ]
    },
    {
      "cell_type": "code",
      "metadata": {
        "id": "4HnATlFm8ylk"
      },
      "source": [
        "def recode_pos(x):\n",
        "    if x[0] == 'G':\n",
        "        return 'G'\n",
        "    elif x[0] == 'F':\n",
        "        return 'F'\n",
        "    elif x[0] == 'C':\n",
        "        return 'C'"
      ],
      "execution_count": null,
      "outputs": []
    },
    {
      "cell_type": "code",
      "metadata": {
        "id": "gfLWuWnk9BA7",
        "outputId": "6dc5dd3a-a3b8-4897-aa73-9ebaef1c811c",
        "colab": {
          "base_uri": "https://localhost:8080/",
          "height": 90
        }
      },
      "source": [
        "player_profile[\"pos_recoded\"]=player_profile[\"pos\"].apply(recode_pos)\n",
        "player_profile[\"pos_recoded\"].value_counts()"
      ],
      "execution_count": null,
      "outputs": [
        {
          "output_type": "execute_result",
          "data": {
            "text/plain": [
              "G    239\n",
              "F    221\n",
              "C     64\n",
              "Name: pos_recoded, dtype: int64"
            ]
          },
          "metadata": {
            "tags": []
          },
          "execution_count": 98
        }
      ]
    },
    {
      "cell_type": "code",
      "metadata": {
        "id": "ipmJUAWY2lSp",
        "outputId": "c59a2cd7-625a-454b-a810-3a5a6ed8b5bd",
        "colab": {
          "base_uri": "https://localhost:8080/",
          "height": 278
        }
      },
      "source": [
        "player_profile.head()"
      ],
      "execution_count": null,
      "outputs": [
        {
          "output_type": "execute_result",
          "data": {
            "text/html": [
              "<div>\n",
              "<style scoped>\n",
              "    .dataframe tbody tr th:only-of-type {\n",
              "        vertical-align: middle;\n",
              "    }\n",
              "\n",
              "    .dataframe tbody tr th {\n",
              "        vertical-align: top;\n",
              "    }\n",
              "\n",
              "    .dataframe thead th {\n",
              "        text-align: right;\n",
              "    }\n",
              "</style>\n",
              "<table border=\"1\" class=\"dataframe\">\n",
              "  <thead>\n",
              "    <tr style=\"text-align: right;\">\n",
              "      <th></th>\n",
              "      <th>collegeName</th>\n",
              "      <th>country</th>\n",
              "      <th>dateOfBirthUTC</th>\n",
              "      <th>firstName</th>\n",
              "      <th>heightFeet</th>\n",
              "      <th>heightInches</th>\n",
              "      <th>heightMeters</th>\n",
              "      <th>isActive</th>\n",
              "      <th>jersey</th>\n",
              "      <th>lastAffiliation</th>\n",
              "      <th>lastName</th>\n",
              "      <th>nbaDebutYear</th>\n",
              "      <th>personId</th>\n",
              "      <th>pos</th>\n",
              "      <th>teamId</th>\n",
              "      <th>temporaryDisplayName</th>\n",
              "      <th>weightKilograms</th>\n",
              "      <th>weightPounds</th>\n",
              "      <th>yearsPro</th>\n",
              "      <th>BMI</th>\n",
              "      <th>height_catagory</th>\n",
              "      <th>pos_recoded</th>\n",
              "    </tr>\n",
              "  </thead>\n",
              "  <tbody>\n",
              "    <tr>\n",
              "      <th>0</th>\n",
              "      <td>Pittsburgh</td>\n",
              "      <td>New Zealand</td>\n",
              "      <td>1993-07-20</td>\n",
              "      <td>Steven</td>\n",
              "      <td>7</td>\n",
              "      <td>0</td>\n",
              "      <td>2.13</td>\n",
              "      <td>1</td>\n",
              "      <td>12.0</td>\n",
              "      <td>Pittsburgh/New Zealand</td>\n",
              "      <td>Adams</td>\n",
              "      <td>2013.0</td>\n",
              "      <td>203500</td>\n",
              "      <td>C</td>\n",
              "      <td>1610612760</td>\n",
              "      <td>Adams, Steven</td>\n",
              "      <td>120.2</td>\n",
              "      <td>265.0</td>\n",
              "      <td>6.0</td>\n",
              "      <td>26.493861</td>\n",
              "      <td>&gt;2m</td>\n",
              "      <td>C</td>\n",
              "    </tr>\n",
              "    <tr>\n",
              "      <th>1</th>\n",
              "      <td>Kentucky</td>\n",
              "      <td>USA</td>\n",
              "      <td>1997-07-18</td>\n",
              "      <td>Bam</td>\n",
              "      <td>6</td>\n",
              "      <td>10</td>\n",
              "      <td>2.08</td>\n",
              "      <td>1</td>\n",
              "      <td>13.0</td>\n",
              "      <td>Kentucky/USA</td>\n",
              "      <td>Adebayo</td>\n",
              "      <td>2017.0</td>\n",
              "      <td>1628389</td>\n",
              "      <td>C-F</td>\n",
              "      <td>1610612748</td>\n",
              "      <td>Adebayo, Bam</td>\n",
              "      <td>115.7</td>\n",
              "      <td>255.0</td>\n",
              "      <td>2.0</td>\n",
              "      <td>26.742788</td>\n",
              "      <td>&gt;2m</td>\n",
              "      <td>C</td>\n",
              "    </tr>\n",
              "    <tr>\n",
              "      <th>2</th>\n",
              "      <td>University of Louisville</td>\n",
              "      <td>South Sudan</td>\n",
              "      <td>1997-02-01</td>\n",
              "      <td>Deng</td>\n",
              "      <td>6</td>\n",
              "      <td>7</td>\n",
              "      <td>2.01</td>\n",
              "      <td>1</td>\n",
              "      <td>NaN</td>\n",
              "      <td>South Sudan/South Sudan</td>\n",
              "      <td>Adel</td>\n",
              "      <td>2018.0</td>\n",
              "      <td>1629061</td>\n",
              "      <td>F</td>\n",
              "      <td>1610612751</td>\n",
              "      <td>Adel, Deng</td>\n",
              "      <td>90.7</td>\n",
              "      <td>200.0</td>\n",
              "      <td>1.0</td>\n",
              "      <td>22.449939</td>\n",
              "      <td>&gt;2m</td>\n",
              "      <td>F</td>\n",
              "    </tr>\n",
              "    <tr>\n",
              "      <th>3</th>\n",
              "      <td>Texas</td>\n",
              "      <td>USA</td>\n",
              "      <td>1985-07-19</td>\n",
              "      <td>LaMarcus</td>\n",
              "      <td>6</td>\n",
              "      <td>11</td>\n",
              "      <td>2.11</td>\n",
              "      <td>1</td>\n",
              "      <td>12.0</td>\n",
              "      <td>Texas/USA</td>\n",
              "      <td>Aldridge</td>\n",
              "      <td>2006.0</td>\n",
              "      <td>200746</td>\n",
              "      <td>C-F</td>\n",
              "      <td>1610612759</td>\n",
              "      <td>Aldridge, LaMarcus</td>\n",
              "      <td>117.9</td>\n",
              "      <td>260.0</td>\n",
              "      <td>13.0</td>\n",
              "      <td>26.481885</td>\n",
              "      <td>&gt;2m</td>\n",
              "      <td>C</td>\n",
              "    </tr>\n",
              "    <tr>\n",
              "      <th>4</th>\n",
              "      <td>Tennessee</td>\n",
              "      <td>Canada</td>\n",
              "      <td>1996-10-21</td>\n",
              "      <td>Kyle</td>\n",
              "      <td>6</td>\n",
              "      <td>11</td>\n",
              "      <td>2.11</td>\n",
              "      <td>1</td>\n",
              "      <td>NaN</td>\n",
              "      <td>Tennessee/Canada</td>\n",
              "      <td>Alexander</td>\n",
              "      <td>NaN</td>\n",
              "      <td>1629734</td>\n",
              "      <td>F</td>\n",
              "      <td>1610612748</td>\n",
              "      <td>Alexander, Kyle</td>\n",
              "      <td>99.8</td>\n",
              "      <td>220.0</td>\n",
              "      <td>0.0</td>\n",
              "      <td>22.416388</td>\n",
              "      <td>&gt;2m</td>\n",
              "      <td>F</td>\n",
              "    </tr>\n",
              "  </tbody>\n",
              "</table>\n",
              "</div>"
            ],
            "text/plain": [
              "                collegeName      country  ... height_catagory pos_recoded\n",
              "0                Pittsburgh  New Zealand  ...             >2m           C\n",
              "1                  Kentucky          USA  ...             >2m           C\n",
              "2  University of Louisville  South Sudan  ...             >2m           F\n",
              "3                     Texas          USA  ...             >2m           C\n",
              "4                 Tennessee       Canada  ...             >2m           F\n",
              "\n",
              "[5 rows x 22 columns]"
            ]
          },
          "metadata": {
            "tags": []
          },
          "execution_count": 99
        }
      ]
    },
    {
      "cell_type": "code",
      "metadata": {
        "id": "ARFE-3GY-Sea",
        "outputId": "ac3dd695-3a75-4bee-e9ce-e3959d967dc5",
        "colab": {
          "base_uri": "https://localhost:8080/",
          "height": 237
        }
      },
      "source": [
        "import pandas as pd\n",
        "\n",
        "numbers = [9, 23, 33, 91, 13]\n",
        "players = [\"Ron Harper\", \"Michael Jordan\", \"Scottie Pippen\", \"Dennis Rodman\", \"Luc Longley\"]\n",
        "df = pd.DataFrame()\n",
        "df[\"number\"] = numbers\n",
        "df[\"player\"] = players\n",
        "df=df.set_index(\"player\")\n",
        "df"
      ],
      "execution_count": null,
      "outputs": [
        {
          "output_type": "execute_result",
          "data": {
            "text/html": [
              "<div>\n",
              "<style scoped>\n",
              "    .dataframe tbody tr th:only-of-type {\n",
              "        vertical-align: middle;\n",
              "    }\n",
              "\n",
              "    .dataframe tbody tr th {\n",
              "        vertical-align: top;\n",
              "    }\n",
              "\n",
              "    .dataframe thead th {\n",
              "        text-align: right;\n",
              "    }\n",
              "</style>\n",
              "<table border=\"1\" class=\"dataframe\">\n",
              "  <thead>\n",
              "    <tr style=\"text-align: right;\">\n",
              "      <th></th>\n",
              "      <th>number</th>\n",
              "    </tr>\n",
              "    <tr>\n",
              "      <th>player</th>\n",
              "      <th></th>\n",
              "    </tr>\n",
              "  </thead>\n",
              "  <tbody>\n",
              "    <tr>\n",
              "      <th>Ron Harper</th>\n",
              "      <td>9</td>\n",
              "    </tr>\n",
              "    <tr>\n",
              "      <th>Michael Jordan</th>\n",
              "      <td>23</td>\n",
              "    </tr>\n",
              "    <tr>\n",
              "      <th>Scottie Pippen</th>\n",
              "      <td>33</td>\n",
              "    </tr>\n",
              "    <tr>\n",
              "      <th>Dennis Rodman</th>\n",
              "      <td>91</td>\n",
              "    </tr>\n",
              "    <tr>\n",
              "      <th>Luc Longley</th>\n",
              "      <td>13</td>\n",
              "    </tr>\n",
              "  </tbody>\n",
              "</table>\n",
              "</div>"
            ],
            "text/plain": [
              "                number\n",
              "player                \n",
              "Ron Harper           9\n",
              "Michael Jordan      23\n",
              "Scottie Pippen      33\n",
              "Dennis Rodman       91\n",
              "Luc Longley         13"
            ]
          },
          "metadata": {
            "tags": []
          },
          "execution_count": 49
        }
      ]
    },
    {
      "cell_type": "code",
      "metadata": {
        "id": "NPdIiFF3-XHQ",
        "outputId": "439f4986-71b6-47e5-a235-5e26be5096e8",
        "colab": {
          "base_uri": "https://localhost:8080/",
          "height": 35
        }
      },
      "source": [
        "\n",
        "print(\"whose number is smallest:\",df[\"number\"].idxmin())"
      ],
      "execution_count": null,
      "outputs": [
        {
          "output_type": "stream",
          "text": [
            "whose number is smallest: Ron Harper\n"
          ],
          "name": "stdout"
        }
      ]
    },
    {
      "cell_type": "code",
      "metadata": {
        "id": "VgoImDr8Y6ub"
      },
      "source": [
        "import numpy as ny\n",
        "import pandas as pd"
      ],
      "execution_count": null,
      "outputs": []
    },
    {
      "cell_type": "code",
      "metadata": {
        "id": "ziJG1kD14t_C",
        "outputId": "63fcb1be-b498-456e-b242-9e295b9d571e",
        "colab": {
          "base_uri": "https://localhost:8080/",
          "height": 195
        }
      },
      "source": [
        "player_profile = pd.read_csv(\"https://python4ds.s3-ap-northeast-1.amazonaws.com/player_profile.csv\")\n",
        "player_profile[\"BMI\"]=player_profile[\"weightKilograms\"]/player_profile[\"heightMeters\"]**2\n",
        "player_profile[[\"temporaryDisplayName\", \"BMI\"]].head()"
      ],
      "execution_count": null,
      "outputs": [
        {
          "output_type": "execute_result",
          "data": {
            "text/html": [
              "<div>\n",
              "<style scoped>\n",
              "    .dataframe tbody tr th:only-of-type {\n",
              "        vertical-align: middle;\n",
              "    }\n",
              "\n",
              "    .dataframe tbody tr th {\n",
              "        vertical-align: top;\n",
              "    }\n",
              "\n",
              "    .dataframe thead th {\n",
              "        text-align: right;\n",
              "    }\n",
              "</style>\n",
              "<table border=\"1\" class=\"dataframe\">\n",
              "  <thead>\n",
              "    <tr style=\"text-align: right;\">\n",
              "      <th></th>\n",
              "      <th>temporaryDisplayName</th>\n",
              "      <th>BMI</th>\n",
              "    </tr>\n",
              "  </thead>\n",
              "  <tbody>\n",
              "    <tr>\n",
              "      <th>0</th>\n",
              "      <td>Adams, Steven</td>\n",
              "      <td>26.493861</td>\n",
              "    </tr>\n",
              "    <tr>\n",
              "      <th>1</th>\n",
              "      <td>Adebayo, Bam</td>\n",
              "      <td>26.742788</td>\n",
              "    </tr>\n",
              "    <tr>\n",
              "      <th>2</th>\n",
              "      <td>Adel, Deng</td>\n",
              "      <td>22.449939</td>\n",
              "    </tr>\n",
              "    <tr>\n",
              "      <th>3</th>\n",
              "      <td>Aldridge, LaMarcus</td>\n",
              "      <td>26.481885</td>\n",
              "    </tr>\n",
              "    <tr>\n",
              "      <th>4</th>\n",
              "      <td>Alexander, Kyle</td>\n",
              "      <td>22.416388</td>\n",
              "    </tr>\n",
              "  </tbody>\n",
              "</table>\n",
              "</div>"
            ],
            "text/plain": [
              "  temporaryDisplayName        BMI\n",
              "0        Adams, Steven  26.493861\n",
              "1         Adebayo, Bam  26.742788\n",
              "2           Adel, Deng  22.449939\n",
              "3   Aldridge, LaMarcus  26.481885\n",
              "4      Alexander, Kyle  22.416388"
            ]
          },
          "metadata": {
            "tags": []
          },
          "execution_count": 3
        }
      ]
    },
    {
      "cell_type": "code",
      "metadata": {
        "id": "ZktBdcyF4wFL",
        "outputId": "061f0351-a6a2-467f-e88f-8092c0f9aef3",
        "colab": {
          "base_uri": "https://localhost:8080/",
          "height": 168
        }
      },
      "source": [
        "player_profile[\"country\"].unique()"
      ],
      "execution_count": null,
      "outputs": [
        {
          "output_type": "execute_result",
          "data": {
            "text/plain": [
              "array(['New Zealand', 'USA', 'South Sudan', 'Canada', 'Greece',\n",
              "       'United Kingdom', 'Bahamas', 'France', 'Australia', 'Italy',\n",
              "       'Croatia', 'Latvia', 'Georgia', 'Democratic Republic of the Congo',\n",
              "       'Serbia', 'Sudan', 'Germany', 'Lithuania', 'Brazil', 'Slovenia',\n",
              "       'Switzerland', nan, 'Mali', 'Senegal', 'Guinea', 'Cameroon',\n",
              "       'Angola', ' ', 'Spain', 'Yugoslavia', 'Japan',\n",
              "       'Dominican Republic', 'Turkey', 'Haiti', 'Ukraine', 'Finland',\n",
              "       'Bosnia and Herzegovina', 'Egypt', 'Nigeria', 'Austria',\n",
              "       'Czech Republic', 'Gabon', 'Montenegro'], dtype=object)"
            ]
          },
          "metadata": {
            "tags": []
          },
          "execution_count": 4
        }
      ]
    },
    {
      "cell_type": "code",
      "metadata": {
        "id": "CAzcN4ZN5CKu",
        "outputId": "4bc0609d-367a-4107-c076-08620b97d8ea",
        "colab": {
          "base_uri": "https://localhost:8080/",
          "height": 34
        }
      },
      "source": [
        "player_profile[\"country\"].nunique()"
      ],
      "execution_count": null,
      "outputs": [
        {
          "output_type": "execute_result",
          "data": {
            "text/plain": [
              "42"
            ]
          },
          "metadata": {
            "tags": []
          },
          "execution_count": 5
        }
      ]
    },
    {
      "cell_type": "code",
      "metadata": {
        "id": "dkr1ScRi5IyK"
      },
      "source": [
        "player_profile[\"country\"].value_counts()"
      ],
      "execution_count": null,
      "outputs": []
    },
    {
      "cell_type": "code",
      "metadata": {
        "id": "ZX3wLuID5uc8"
      },
      "source": [
        "group_object = player_profile.groupby(\"pos\") #按照postion分組"
      ],
      "execution_count": null,
      "outputs": []
    },
    {
      "cell_type": "markdown",
      "metadata": {
        "id": "8kCrMOwjg4Kc"
      },
      "source": [
        "# 對投票所票數資料整理\n"
      ]
    },
    {
      "cell_type": "code",
      "metadata": {
        "id": "R8WA0a_mjWJz",
        "outputId": "e2558eb8-6eb9-481c-df01-f36584f5ba45",
        "colab": {
          "base_uri": "https://localhost:8080/",
          "height": 36
        }
      },
      "source": [
        "import os\n",
        "os.getcwd()"
      ],
      "execution_count": null,
      "outputs": [
        {
          "output_type": "execute_result",
          "data": {
            "application/vnd.google.colaboratory.intrinsic": {
              "type": "string"
            },
            "text/plain": [
              "'/content'"
            ]
          },
          "metadata": {
            "tags": []
          },
          "execution_count": 3
        }
      ]
    },
    {
      "cell_type": "code",
      "metadata": {
        "id": "oc7aEQ0UtY-4",
        "outputId": "846e3a08-607e-4ffb-9c8a-5de2cacf7eb7",
        "colab": {
          "base_uri": "https://localhost:8080/",
          "height": 55
        }
      },
      "source": [
        "from urllib.parse import quote\n",
        "file_name = \"總統-A05-4-候選人得票數一覽表-各投開票所(新北市).xls\"\n",
        "file_name_url = quote(file_name)\n",
        "print(file_name_url)"
      ],
      "execution_count": null,
      "outputs": [
        {
          "output_type": "stream",
          "text": [
            "%E7%B8%BD%E7%B5%B1-A05-4-%E5%80%99%E9%81%B8%E4%BA%BA%E5%BE%97%E7%A5%A8%E6%95%B8%E4%B8%80%E8%A6%BD%E8%A1%A8-%E5%90%84%E6%8A%95%E9%96%8B%E7%A5%A8%E6%89%80%28%E6%96%B0%E5%8C%97%E5%B8%82%29.xls\n"
          ],
          "name": "stdout"
        }
      ]
    },
    {
      "cell_type": "code",
      "metadata": {
        "id": "PYzlSO0dkDhJ",
        "outputId": "45cb1b40-4012-4f40-ab43-625daf420efc",
        "colab": {
          "base_uri": "https://localhost:8080/",
          "height": 55
        }
      },
      "source": [
        "from urllib.parse import quote\n",
        "file_name = \"總統-A05-4-候選人得票數一覽表-各投開票所(臺北市).xls\"\n",
        "file_name_url = quote(file_name)\n",
        "print(file_name_url)"
      ],
      "execution_count": null,
      "outputs": [
        {
          "output_type": "stream",
          "text": [
            "%E7%B8%BD%E7%B5%B1-A05-4-%E5%80%99%E9%81%B8%E4%BA%BA%E5%BE%97%E7%A5%A8%E6%95%B8%E4%B8%80%E8%A6%BD%E8%A1%A8-%E5%90%84%E6%8A%95%E9%96%8B%E7%A5%A8%E6%89%80%28%E8%87%BA%E5%8C%97%E5%B8%82%29.xls\n"
          ],
          "name": "stdout"
        }
      ]
    },
    {
      "cell_type": "code",
      "metadata": {
        "id": "tq7ZGAw-tXmD"
      },
      "source": [
        ""
      ],
      "execution_count": null,
      "outputs": []
    },
    {
      "cell_type": "code",
      "metadata": {
        "id": "Y1ZuiSjdg8TU",
        "outputId": "073b0644-2edb-45b3-9dc1-8ea0665bc91c",
        "colab": {
          "base_uri": "https://localhost:8080/",
          "height": 278
        }
      },
      "source": [
        "import pandas as pd\n",
        "file_path = \"https://taiwan-election-data.s3-ap-northeast-1.amazonaws.com/presidential_2020/{}\".format(file_name_url)\n",
        "xls_df = pd.read_excel(file_path, skiprows=[0, 1, 3, 4])\n",
        "xls_df.head()"
      ],
      "execution_count": null,
      "outputs": [
        {
          "output_type": "execute_result",
          "data": {
            "text/html": [
              "<div>\n",
              "<style scoped>\n",
              "    .dataframe tbody tr th:only-of-type {\n",
              "        vertical-align: middle;\n",
              "    }\n",
              "\n",
              "    .dataframe tbody tr th {\n",
              "        vertical-align: top;\n",
              "    }\n",
              "\n",
              "    .dataframe thead th {\n",
              "        text-align: right;\n",
              "    }\n",
              "</style>\n",
              "<table border=\"1\" class=\"dataframe\">\n",
              "  <thead>\n",
              "    <tr style=\"text-align: right;\">\n",
              "      <th></th>\n",
              "      <th>Unnamed: 0</th>\n",
              "      <th>Unnamed: 1</th>\n",
              "      <th>Unnamed: 2</th>\n",
              "      <th>(1)\\n宋楚瑜\\n余湘</th>\n",
              "      <th>(2)\\n韓國瑜\\n張善政</th>\n",
              "      <th>(3)\\n蔡英文\\n賴清德</th>\n",
              "      <th>Unnamed: 6</th>\n",
              "      <th>Unnamed: 7</th>\n",
              "      <th>Unnamed: 8</th>\n",
              "      <th>Unnamed: 9</th>\n",
              "      <th>Unnamed: 10</th>\n",
              "      <th>Unnamed: 11</th>\n",
              "      <th>Unnamed: 12</th>\n",
              "      <th>Unnamed: 13</th>\n",
              "    </tr>\n",
              "  </thead>\n",
              "  <tbody>\n",
              "    <tr>\n",
              "      <th>0</th>\n",
              "      <td>總　計</td>\n",
              "      <td>NaN</td>\n",
              "      <td>NaN</td>\n",
              "      <td>70,769</td>\n",
              "      <td>685,830</td>\n",
              "      <td>875,854</td>\n",
              "      <td>1,632,453</td>\n",
              "      <td>21,381</td>\n",
              "      <td>1,653,834</td>\n",
              "      <td>143</td>\n",
              "      <td>1,653,977</td>\n",
              "      <td>513,287</td>\n",
              "      <td>2,167,264</td>\n",
              "      <td>76.3098</td>\n",
              "    </tr>\n",
              "    <tr>\n",
              "      <th>1</th>\n",
              "      <td>松山區</td>\n",
              "      <td>NaN</td>\n",
              "      <td>NaN</td>\n",
              "      <td>5,436</td>\n",
              "      <td>55,918</td>\n",
              "      <td>64,207</td>\n",
              "      <td>125,561</td>\n",
              "      <td>1,762</td>\n",
              "      <td>127,323</td>\n",
              "      <td>2</td>\n",
              "      <td>127,325</td>\n",
              "      <td>37,329</td>\n",
              "      <td>164,654</td>\n",
              "      <td>77.3276</td>\n",
              "    </tr>\n",
              "    <tr>\n",
              "      <th>2</th>\n",
              "      <td>NaN</td>\n",
              "      <td>莊敬里</td>\n",
              "      <td>573.0</td>\n",
              "      <td>36</td>\n",
              "      <td>391</td>\n",
              "      <td>429</td>\n",
              "      <td>856</td>\n",
              "      <td>14</td>\n",
              "      <td>870</td>\n",
              "      <td>0</td>\n",
              "      <td>870</td>\n",
              "      <td>230</td>\n",
              "      <td>1,100</td>\n",
              "      <td>79.0909</td>\n",
              "    </tr>\n",
              "    <tr>\n",
              "      <th>3</th>\n",
              "      <td>NaN</td>\n",
              "      <td>莊敬里</td>\n",
              "      <td>574.0</td>\n",
              "      <td>46</td>\n",
              "      <td>382</td>\n",
              "      <td>438</td>\n",
              "      <td>866</td>\n",
              "      <td>12</td>\n",
              "      <td>878</td>\n",
              "      <td>0</td>\n",
              "      <td>878</td>\n",
              "      <td>259</td>\n",
              "      <td>1,137</td>\n",
              "      <td>77.2208</td>\n",
              "    </tr>\n",
              "    <tr>\n",
              "      <th>4</th>\n",
              "      <td>NaN</td>\n",
              "      <td>莊敬里</td>\n",
              "      <td>575.0</td>\n",
              "      <td>48</td>\n",
              "      <td>393</td>\n",
              "      <td>389</td>\n",
              "      <td>830</td>\n",
              "      <td>22</td>\n",
              "      <td>852</td>\n",
              "      <td>0</td>\n",
              "      <td>852</td>\n",
              "      <td>262</td>\n",
              "      <td>1,114</td>\n",
              "      <td>76.4811</td>\n",
              "    </tr>\n",
              "  </tbody>\n",
              "</table>\n",
              "</div>"
            ],
            "text/plain": [
              "  Unnamed: 0 Unnamed: 1  Unnamed: 2  ... Unnamed: 11 Unnamed: 12 Unnamed: 13\n",
              "0        總　計        NaN         NaN  ...     513,287   2,167,264     76.3098\n",
              "1       　松山區        NaN         NaN  ...      37,329     164,654     77.3276\n",
              "2        NaN        莊敬里       573.0  ...         230       1,100     79.0909\n",
              "3        NaN        莊敬里       574.0  ...         259       1,137     77.2208\n",
              "4        NaN        莊敬里       575.0  ...         262       1,114     76.4811\n",
              "\n",
              "[5 rows x 14 columns]"
            ]
          },
          "metadata": {
            "tags": []
          },
          "execution_count": 36
        }
      ]
    },
    {
      "cell_type": "code",
      "metadata": {
        "id": "Loz4yiwZk7i1",
        "outputId": "b28d841b-7536-422c-8d05-22f94536b099",
        "colab": {
          "base_uri": "https://localhost:8080/",
          "height": 35
        }
      },
      "source": [
        "columns_names=list(xls_df.columns)\n",
        "n_candidates=len(columns_names)-11\n",
        "candidates_n_names=columns_names[3:(3+n_candidates)]\n",
        "print(candidates_n_names)"
      ],
      "execution_count": null,
      "outputs": [
        {
          "output_type": "stream",
          "text": [
            "['(1)\\n宋楚瑜\\n余湘', '(2)\\n韓國瑜\\n張善政', '(3)\\n蔡英文\\n賴清德']\n"
          ],
          "name": "stdout"
        }
      ]
    },
    {
      "cell_type": "code",
      "metadata": {
        "id": "ek8AuWPylzMH"
      },
      "source": [
        "from string import ascii_uppercase\n",
        "column_names = [\"district\", \"village\", \"office\"] + candidates_n_names + list(ascii_uppercase[:8])\n",
        "xls_df.columns = column_names\n",
        "xls_df.head()"
      ],
      "execution_count": null,
      "outputs": []
    },
    {
      "cell_type": "code",
      "metadata": {
        "id": "1I0z-ieBl0Jh"
      },
      "source": [
        "district_filled=xls_df[\"district\"].fillna(method=\"ffill\")\n",
        "district_filled"
      ],
      "execution_count": null,
      "outputs": []
    },
    {
      "cell_type": "code",
      "metadata": {
        "id": "1sD1_i_Bm11H"
      },
      "source": [
        "xls_df=xls_df.drop(\"district\",axis=1 )\n",
        "xls_df.insert(0,\"district\",district_filled)\n",
        "xls_df"
      ],
      "execution_count": null,
      "outputs": []
    },
    {
      "cell_type": "code",
      "metadata": {
        "id": "55EikvjxpBgz",
        "outputId": "0b7af0c2-5f6a-4b89-da05-4113c6b43e6e",
        "colab": {
          "base_uri": "https://localhost:8080/",
          "height": 73
        }
      },
      "source": [
        "xls_df[\"district\"]=xls_df[\"district\"].str.replace(\"\\u3000\",\"\").str.strip()\n",
        "print(xls_df[\"district\"].unique())"
      ],
      "execution_count": null,
      "outputs": [
        {
          "output_type": "stream",
          "text": [
            "['總計' '松山區' '信義區' '大安區' '中山區' '中正區' '大同區' '萬華區' '文山區' '南港區' '內湖區' '士林區'\n",
            " '北投區']\n"
          ],
          "name": "stdout"
        }
      ]
    },
    {
      "cell_type": "code",
      "metadata": {
        "id": "BBH_tc12qJ_Y",
        "outputId": "c2251772-de1b-415c-c794-f3cce37fe206",
        "colab": {
          "base_uri": "https://localhost:8080/",
          "height": 295
        }
      },
      "source": [
        "xls_df=xls_df.dropna().reset_index(drop=True)\n",
        "xls_df.head()"
      ],
      "execution_count": null,
      "outputs": [
        {
          "output_type": "execute_result",
          "data": {
            "text/html": [
              "<div>\n",
              "<style scoped>\n",
              "    .dataframe tbody tr th:only-of-type {\n",
              "        vertical-align: middle;\n",
              "    }\n",
              "\n",
              "    .dataframe tbody tr th {\n",
              "        vertical-align: top;\n",
              "    }\n",
              "\n",
              "    .dataframe thead th {\n",
              "        text-align: right;\n",
              "    }\n",
              "</style>\n",
              "<table border=\"1\" class=\"dataframe\">\n",
              "  <thead>\n",
              "    <tr style=\"text-align: right;\">\n",
              "      <th></th>\n",
              "      <th>district</th>\n",
              "      <th>village</th>\n",
              "      <th>office</th>\n",
              "      <th>(1)\\n宋楚瑜\\n余湘</th>\n",
              "      <th>(2)\\n韓國瑜\\n張善政</th>\n",
              "      <th>(3)\\n蔡英文\\n賴清德</th>\n",
              "      <th>A</th>\n",
              "      <th>B</th>\n",
              "      <th>C</th>\n",
              "      <th>D</th>\n",
              "      <th>E</th>\n",
              "      <th>F</th>\n",
              "      <th>G</th>\n",
              "      <th>H</th>\n",
              "    </tr>\n",
              "  </thead>\n",
              "  <tbody>\n",
              "    <tr>\n",
              "      <th>0</th>\n",
              "      <td>松山區</td>\n",
              "      <td>莊敬里</td>\n",
              "      <td>573.0</td>\n",
              "      <td>36</td>\n",
              "      <td>391</td>\n",
              "      <td>429</td>\n",
              "      <td>856</td>\n",
              "      <td>14</td>\n",
              "      <td>870</td>\n",
              "      <td>0</td>\n",
              "      <td>870</td>\n",
              "      <td>230</td>\n",
              "      <td>1,100</td>\n",
              "      <td>79.0909</td>\n",
              "    </tr>\n",
              "    <tr>\n",
              "      <th>1</th>\n",
              "      <td>松山區</td>\n",
              "      <td>莊敬里</td>\n",
              "      <td>574.0</td>\n",
              "      <td>46</td>\n",
              "      <td>382</td>\n",
              "      <td>438</td>\n",
              "      <td>866</td>\n",
              "      <td>12</td>\n",
              "      <td>878</td>\n",
              "      <td>0</td>\n",
              "      <td>878</td>\n",
              "      <td>259</td>\n",
              "      <td>1,137</td>\n",
              "      <td>77.2208</td>\n",
              "    </tr>\n",
              "    <tr>\n",
              "      <th>2</th>\n",
              "      <td>松山區</td>\n",
              "      <td>莊敬里</td>\n",
              "      <td>575.0</td>\n",
              "      <td>48</td>\n",
              "      <td>393</td>\n",
              "      <td>389</td>\n",
              "      <td>830</td>\n",
              "      <td>22</td>\n",
              "      <td>852</td>\n",
              "      <td>0</td>\n",
              "      <td>852</td>\n",
              "      <td>262</td>\n",
              "      <td>1,114</td>\n",
              "      <td>76.4811</td>\n",
              "    </tr>\n",
              "    <tr>\n",
              "      <th>3</th>\n",
              "      <td>松山區</td>\n",
              "      <td>莊敬里</td>\n",
              "      <td>576.0</td>\n",
              "      <td>43</td>\n",
              "      <td>389</td>\n",
              "      <td>462</td>\n",
              "      <td>894</td>\n",
              "      <td>14</td>\n",
              "      <td>908</td>\n",
              "      <td>0</td>\n",
              "      <td>908</td>\n",
              "      <td>271</td>\n",
              "      <td>1,179</td>\n",
              "      <td>77.0144</td>\n",
              "    </tr>\n",
              "    <tr>\n",
              "      <th>4</th>\n",
              "      <td>松山區</td>\n",
              "      <td>東榮里</td>\n",
              "      <td>577.0</td>\n",
              "      <td>38</td>\n",
              "      <td>431</td>\n",
              "      <td>545</td>\n",
              "      <td>1,014</td>\n",
              "      <td>18</td>\n",
              "      <td>1,032</td>\n",
              "      <td>0</td>\n",
              "      <td>1,032</td>\n",
              "      <td>272</td>\n",
              "      <td>1,304</td>\n",
              "      <td>79.1411</td>\n",
              "    </tr>\n",
              "  </tbody>\n",
              "</table>\n",
              "</div>"
            ],
            "text/plain": [
              "  district village  office (1)\\n宋楚瑜\\n余湘  ...      E    F      G        H\n",
              "0      松山區     莊敬里   573.0           36  ...    870  230  1,100  79.0909\n",
              "1      松山區     莊敬里   574.0           46  ...    878  259  1,137  77.2208\n",
              "2      松山區     莊敬里   575.0           48  ...    852  262  1,114  76.4811\n",
              "3      松山區     莊敬里   576.0           43  ...    908  271  1,179  77.0144\n",
              "4      松山區     東榮里   577.0           38  ...  1,032  272  1,304  79.1411\n",
              "\n",
              "[5 rows x 14 columns]"
            ]
          },
          "metadata": {
            "tags": []
          },
          "execution_count": 42
        }
      ]
    },
    {
      "cell_type": "code",
      "metadata": {
        "id": "LvGeDdZerjfA"
      },
      "source": [
        "import pandas as pd\n",
        "from string import ascii_uppercase\n",
        "\n",
        "def get_tidy_data(file_name):\n",
        "  \n",
        "  xls_df = pd.read_excel(file_name, skiprows=[0, 1, 3, 4])\n",
        "  #找到欄位候選人號碼\n",
        "  columns_names=list(xls_df.columns)\n",
        "  n_candidates=len(columns_names)-11\n",
        "  candidates_n_names=columns_names[3:(3+n_candidates)]\n",
        " \n",
        "  #將欄位命名\n",
        "  \n",
        "  column_names = [\"district\", \"village\", \"office\"] + candidates_n_names + list(ascii_uppercase[:8])\n",
        "  xls_df.columns = column_names\n",
        "  #將行政區NA值用先前值填補\n",
        "  district_filled=xls_df[\"district\"].fillna(method=\"ffill\")\n",
        "  #行政區有NA值,將完整行政區填入\n",
        "  xls_df=xls_df.drop(\"district\",axis=1 )\n",
        "  xls_df.insert(0,\"district\",district_filled)\n",
        "  #整理行政區文字\n",
        "  xls_df[\"district\"]=xls_df[\"district\"].str.replace(\"\\u3000\",\"\").str.strip()\n",
        "  #捨棄總計和小計剛好是NA值所在列\n",
        "  tidy_data=xls_df.dropna().reset_index(drop=True)\n",
        "\n",
        "  return tidy_data"
      ],
      "execution_count": null,
      "outputs": []
    },
    {
      "cell_type": "code",
      "metadata": {
        "id": "wLK9Qd35vU2k"
      },
      "source": [
        "from urllib.parse import quote\n",
        "file_name = \"總統-A05-4-候選人得票數一覽表-各投開票所(新北市).xls\"\n",
        "file_name_url = quote(file_name)\n",
        "file_path = \"https://taiwan-election-data.s3-ap-northeast-1.amazonaws.com/presidential_2020/{}\".format(file_name_url)\n",
        "get_tidy_data(file_path).head()"
      ],
      "execution_count": null,
      "outputs": []
    },
    {
      "cell_type": "code",
      "metadata": {
        "id": "AE9jjRh6w12U"
      },
      "source": [
        "admin_areas = [\"臺北市\", \"新北市\", \"桃園市\", \"臺中市\", \"臺南市\", \"高雄市\", \"新竹縣\", \"苗栗縣\", \"彰化縣\", \"南投縣\", \"雲林縣\", \"嘉義縣\", \"屏東縣\", \"宜蘭縣\", \"花蓮縣\", \"臺東縣\", \"澎湖縣\", \"基隆市\", \"新竹市\", \"嘉義市\", \"金門縣\", \"連江縣\"]\n",
        "file_names = [\"總統-A05-4-候選人得票數一覽表-各投開票所({}).xls\".format(areas) for areas in admin_areas]\n",
        "file_names"
      ],
      "execution_count": null,
      "outputs": []
    },
    {
      "cell_type": "code",
      "metadata": {
        "id": "x6FEUOrRw1sE"
      },
      "source": [
        "df_dict={}\n",
        "for file_name, admin_area in zip(file_names, admin_areas):\n",
        "  tidy_df = get_tidy_data(file_name)\n",
        "  df_dict[admin_area] = tidy_df\n",
        "  print(\"現在正在處理{}的資料...\".format(admin_area))\n",
        "  print(\"資料外觀為：\", tidy_df.shape)"
      ],
      "execution_count": null,
      "outputs": []
    },
    {
      "cell_type": "code",
      "metadata": {
        "id": "hulvNCLEzyxA"
      },
      "source": [
        "df_dict[\"臺北市\"]"
      ],
      "execution_count": null,
      "outputs": []
    },
    {
      "cell_type": "code",
      "metadata": {
        "id": "CcpzB6HO0CP6"
      },
      "source": [
        "tpe=df_dict[\"臺北市\"]\n",
        "\n",
        "tpe=tpe[tpe.columns[:6]]#tpe.drop(list(ascii_uppercase[:8]),axis=1)"
      ],
      "execution_count": null,
      "outputs": []
    },
    {
      "cell_type": "code",
      "metadata": {
        "id": "Vbi5eUKNUJ92",
        "outputId": "9051078c-875f-490f-ff6b-285c30e3913c",
        "colab": {
          "base_uri": "https://localhost:8080/",
          "height": 206
        }
      },
      "source": [
        "candidate_infos = list(tpe.columns[3:])\n",
        "tpe = tpe.melt(id_vars=['district', 'village', 'office'], value_vars=candidate_infos, var_name=\"candidate_info\", value_name='votes')\n",
        "tpe.head()"
      ],
      "execution_count": null,
      "outputs": [
        {
          "output_type": "execute_result",
          "data": {
            "text/html": [
              "<div>\n",
              "<style scoped>\n",
              "    .dataframe tbody tr th:only-of-type {\n",
              "        vertical-align: middle;\n",
              "    }\n",
              "\n",
              "    .dataframe tbody tr th {\n",
              "        vertical-align: top;\n",
              "    }\n",
              "\n",
              "    .dataframe thead th {\n",
              "        text-align: right;\n",
              "    }\n",
              "</style>\n",
              "<table border=\"1\" class=\"dataframe\">\n",
              "  <thead>\n",
              "    <tr style=\"text-align: right;\">\n",
              "      <th></th>\n",
              "      <th>district</th>\n",
              "      <th>village</th>\n",
              "      <th>office</th>\n",
              "      <th>candidate_info</th>\n",
              "      <th>votes</th>\n",
              "    </tr>\n",
              "  </thead>\n",
              "  <tbody>\n",
              "    <tr>\n",
              "      <th>0</th>\n",
              "      <td>松山區</td>\n",
              "      <td>莊敬里</td>\n",
              "      <td>573.0</td>\n",
              "      <td>(1)\\n宋楚瑜\\n余湘</td>\n",
              "      <td>36</td>\n",
              "    </tr>\n",
              "    <tr>\n",
              "      <th>1</th>\n",
              "      <td>松山區</td>\n",
              "      <td>莊敬里</td>\n",
              "      <td>574.0</td>\n",
              "      <td>(1)\\n宋楚瑜\\n余湘</td>\n",
              "      <td>46</td>\n",
              "    </tr>\n",
              "    <tr>\n",
              "      <th>2</th>\n",
              "      <td>松山區</td>\n",
              "      <td>莊敬里</td>\n",
              "      <td>575.0</td>\n",
              "      <td>(1)\\n宋楚瑜\\n余湘</td>\n",
              "      <td>48</td>\n",
              "    </tr>\n",
              "    <tr>\n",
              "      <th>3</th>\n",
              "      <td>松山區</td>\n",
              "      <td>莊敬里</td>\n",
              "      <td>576.0</td>\n",
              "      <td>(1)\\n宋楚瑜\\n余湘</td>\n",
              "      <td>43</td>\n",
              "    </tr>\n",
              "    <tr>\n",
              "      <th>4</th>\n",
              "      <td>松山區</td>\n",
              "      <td>東榮里</td>\n",
              "      <td>577.0</td>\n",
              "      <td>(1)\\n宋楚瑜\\n余湘</td>\n",
              "      <td>38</td>\n",
              "    </tr>\n",
              "  </tbody>\n",
              "</table>\n",
              "</div>"
            ],
            "text/plain": [
              "  district village  office candidate_info votes\n",
              "0      松山區     莊敬里   573.0   (1)\\n宋楚瑜\\n余湘    36\n",
              "1      松山區     莊敬里   574.0   (1)\\n宋楚瑜\\n余湘    46\n",
              "2      松山區     莊敬里   575.0   (1)\\n宋楚瑜\\n余湘    48\n",
              "3      松山區     莊敬里   576.0   (1)\\n宋楚瑜\\n余湘    43\n",
              "4      松山區     東榮里   577.0   (1)\\n宋楚瑜\\n余湘    38"
            ]
          },
          "metadata": {
            "tags": []
          },
          "execution_count": 10
        }
      ]
    },
    {
      "cell_type": "code",
      "metadata": {
        "id": "T9WK7tJ-g0X8"
      },
      "source": [
        "presidential_votes=pd.DataFrame()\n",
        "for admin_area in admin_areas:\n",
        "  county=df_dict[admin_area]\n",
        "  county=county[county.columns[:6]]\n",
        "  county = county.melt(id_vars=['district', 'village', 'office'], value_vars=candidate_infos, var_name=\"candidate_info\", value_name='votes')\n",
        "  county[\"admin_area\"]=admin_area\n",
        "  presidential_votes=presidential_votes.append(county)\n",
        "\n",
        "presidential_votes = presidential_votes.reset_index(drop=True)"
      ],
      "execution_count": null,
      "outputs": []
    },
    {
      "cell_type": "code",
      "metadata": {
        "id": "rFQ-FHOfipjf",
        "outputId": "1aab0ddf-3f98-4396-ef3e-f2e111c89bc7",
        "colab": {
          "base_uri": "https://localhost:8080/",
          "height": 206
        }
      },
      "source": [
        "presidential_votes.head()"
      ],
      "execution_count": null,
      "outputs": [
        {
          "output_type": "execute_result",
          "data": {
            "text/html": [
              "<div>\n",
              "<style scoped>\n",
              "    .dataframe tbody tr th:only-of-type {\n",
              "        vertical-align: middle;\n",
              "    }\n",
              "\n",
              "    .dataframe tbody tr th {\n",
              "        vertical-align: top;\n",
              "    }\n",
              "\n",
              "    .dataframe thead th {\n",
              "        text-align: right;\n",
              "    }\n",
              "</style>\n",
              "<table border=\"1\" class=\"dataframe\">\n",
              "  <thead>\n",
              "    <tr style=\"text-align: right;\">\n",
              "      <th></th>\n",
              "      <th>district</th>\n",
              "      <th>village</th>\n",
              "      <th>office</th>\n",
              "      <th>candidate_info</th>\n",
              "      <th>votes</th>\n",
              "      <th>admin_area</th>\n",
              "    </tr>\n",
              "  </thead>\n",
              "  <tbody>\n",
              "    <tr>\n",
              "      <th>0</th>\n",
              "      <td>松山區</td>\n",
              "      <td>莊敬里</td>\n",
              "      <td>573.0</td>\n",
              "      <td>(1)\\n宋楚瑜\\n余湘</td>\n",
              "      <td>36</td>\n",
              "      <td>臺北市</td>\n",
              "    </tr>\n",
              "    <tr>\n",
              "      <th>1</th>\n",
              "      <td>松山區</td>\n",
              "      <td>莊敬里</td>\n",
              "      <td>574.0</td>\n",
              "      <td>(1)\\n宋楚瑜\\n余湘</td>\n",
              "      <td>46</td>\n",
              "      <td>臺北市</td>\n",
              "    </tr>\n",
              "    <tr>\n",
              "      <th>2</th>\n",
              "      <td>松山區</td>\n",
              "      <td>莊敬里</td>\n",
              "      <td>575.0</td>\n",
              "      <td>(1)\\n宋楚瑜\\n余湘</td>\n",
              "      <td>48</td>\n",
              "      <td>臺北市</td>\n",
              "    </tr>\n",
              "    <tr>\n",
              "      <th>3</th>\n",
              "      <td>松山區</td>\n",
              "      <td>莊敬里</td>\n",
              "      <td>576.0</td>\n",
              "      <td>(1)\\n宋楚瑜\\n余湘</td>\n",
              "      <td>43</td>\n",
              "      <td>臺北市</td>\n",
              "    </tr>\n",
              "    <tr>\n",
              "      <th>4</th>\n",
              "      <td>松山區</td>\n",
              "      <td>東榮里</td>\n",
              "      <td>577.0</td>\n",
              "      <td>(1)\\n宋楚瑜\\n余湘</td>\n",
              "      <td>38</td>\n",
              "      <td>臺北市</td>\n",
              "    </tr>\n",
              "  </tbody>\n",
              "</table>\n",
              "</div>"
            ],
            "text/plain": [
              "  district village  office candidate_info votes admin_area\n",
              "0      松山區     莊敬里   573.0   (1)\\n宋楚瑜\\n余湘    36        臺北市\n",
              "1      松山區     莊敬里   574.0   (1)\\n宋楚瑜\\n余湘    46        臺北市\n",
              "2      松山區     莊敬里   575.0   (1)\\n宋楚瑜\\n余湘    48        臺北市\n",
              "3      松山區     莊敬里   576.0   (1)\\n宋楚瑜\\n余湘    43        臺北市\n",
              "4      松山區     東榮里   577.0   (1)\\n宋楚瑜\\n余湘    38        臺北市"
            ]
          },
          "metadata": {
            "tags": []
          },
          "execution_count": 139
        }
      ]
    },
    {
      "cell_type": "code",
      "metadata": {
        "id": "C-XFaR0Ii3Gr",
        "outputId": "838281b6-7e51-4572-eac9-15cf4b2878a7",
        "colab": {
          "base_uri": "https://localhost:8080/",
          "height": 206
        }
      },
      "source": [
        "split_candidate=presidential_votes[\"candidate_info\"].str.split(\"\\n\",expand=True)\n",
        "presidential_votes[\"number\"]=split_candidate[0].str.replace(\"\\(\",\"\").str.replace(\"\\)\",\"\")\n",
        "presidential_votes[\"candidate_info\"]=split_candidate[1].str.cat(split_candidate[2],\"/\")\n",
        "presidential_votes.head()"
      ],
      "execution_count": null,
      "outputs": [
        {
          "output_type": "execute_result",
          "data": {
            "text/html": [
              "<div>\n",
              "<style scoped>\n",
              "    .dataframe tbody tr th:only-of-type {\n",
              "        vertical-align: middle;\n",
              "    }\n",
              "\n",
              "    .dataframe tbody tr th {\n",
              "        vertical-align: top;\n",
              "    }\n",
              "\n",
              "    .dataframe thead th {\n",
              "        text-align: right;\n",
              "    }\n",
              "</style>\n",
              "<table border=\"1\" class=\"dataframe\">\n",
              "  <thead>\n",
              "    <tr style=\"text-align: right;\">\n",
              "      <th></th>\n",
              "      <th>district</th>\n",
              "      <th>village</th>\n",
              "      <th>office</th>\n",
              "      <th>candidate_info</th>\n",
              "      <th>votes</th>\n",
              "      <th>admin_area</th>\n",
              "      <th>number</th>\n",
              "    </tr>\n",
              "  </thead>\n",
              "  <tbody>\n",
              "    <tr>\n",
              "      <th>0</th>\n",
              "      <td>松山區</td>\n",
              "      <td>莊敬里</td>\n",
              "      <td>573.0</td>\n",
              "      <td>宋楚瑜/余湘</td>\n",
              "      <td>36</td>\n",
              "      <td>臺北市</td>\n",
              "      <td>1</td>\n",
              "    </tr>\n",
              "    <tr>\n",
              "      <th>1</th>\n",
              "      <td>松山區</td>\n",
              "      <td>莊敬里</td>\n",
              "      <td>574.0</td>\n",
              "      <td>宋楚瑜/余湘</td>\n",
              "      <td>46</td>\n",
              "      <td>臺北市</td>\n",
              "      <td>1</td>\n",
              "    </tr>\n",
              "    <tr>\n",
              "      <th>2</th>\n",
              "      <td>松山區</td>\n",
              "      <td>莊敬里</td>\n",
              "      <td>575.0</td>\n",
              "      <td>宋楚瑜/余湘</td>\n",
              "      <td>48</td>\n",
              "      <td>臺北市</td>\n",
              "      <td>1</td>\n",
              "    </tr>\n",
              "    <tr>\n",
              "      <th>3</th>\n",
              "      <td>松山區</td>\n",
              "      <td>莊敬里</td>\n",
              "      <td>576.0</td>\n",
              "      <td>宋楚瑜/余湘</td>\n",
              "      <td>43</td>\n",
              "      <td>臺北市</td>\n",
              "      <td>1</td>\n",
              "    </tr>\n",
              "    <tr>\n",
              "      <th>4</th>\n",
              "      <td>松山區</td>\n",
              "      <td>東榮里</td>\n",
              "      <td>577.0</td>\n",
              "      <td>宋楚瑜/余湘</td>\n",
              "      <td>38</td>\n",
              "      <td>臺北市</td>\n",
              "      <td>1</td>\n",
              "    </tr>\n",
              "  </tbody>\n",
              "</table>\n",
              "</div>"
            ],
            "text/plain": [
              "  district village  office candidate_info votes admin_area number\n",
              "0      松山區     莊敬里   573.0         宋楚瑜/余湘    36        臺北市      1\n",
              "1      松山區     莊敬里   574.0         宋楚瑜/余湘    46        臺北市      1\n",
              "2      松山區     莊敬里   575.0         宋楚瑜/余湘    48        臺北市      1\n",
              "3      松山區     莊敬里   576.0         宋楚瑜/余湘    43        臺北市      1\n",
              "4      松山區     東榮里   577.0         宋楚瑜/余湘    38        臺北市      1"
            ]
          },
          "metadata": {
            "tags": []
          },
          "execution_count": 140
        }
      ]
    },
    {
      "cell_type": "code",
      "metadata": {
        "id": "7u901neDlnpC"
      },
      "source": [
        "def get_party(number):\n",
        "  party=[\"親民黨\",\"中國國民黨\",\"民主進步黨\"]\n",
        "  if number == '1':\n",
        "    return party[0]\n",
        "  elif number == '2':\n",
        "    return party[1]\n",
        "  elif number == '3':\n",
        "    return party[2]\n",
        "  "
      ],
      "execution_count": null,
      "outputs": []
    },
    {
      "cell_type": "code",
      "metadata": {
        "id": "tFhZhuf65SVS"
      },
      "source": [
        "presidential_votes['party'] = presidential_votes['number'].apply(get_party)"
      ],
      "execution_count": null,
      "outputs": []
    },
    {
      "cell_type": "code",
      "metadata": {
        "id": "1VLuBSZg3-fa",
        "outputId": "677b39ec-7b56-436d-e9b3-6a92b18c3dba",
        "colab": {
          "base_uri": "https://localhost:8080/",
          "height": 206
        }
      },
      "source": [
        "presidential_votes.head()"
      ],
      "execution_count": null,
      "outputs": [
        {
          "output_type": "execute_result",
          "data": {
            "text/html": [
              "<div>\n",
              "<style scoped>\n",
              "    .dataframe tbody tr th:only-of-type {\n",
              "        vertical-align: middle;\n",
              "    }\n",
              "\n",
              "    .dataframe tbody tr th {\n",
              "        vertical-align: top;\n",
              "    }\n",
              "\n",
              "    .dataframe thead th {\n",
              "        text-align: right;\n",
              "    }\n",
              "</style>\n",
              "<table border=\"1\" class=\"dataframe\">\n",
              "  <thead>\n",
              "    <tr style=\"text-align: right;\">\n",
              "      <th></th>\n",
              "      <th>district</th>\n",
              "      <th>village</th>\n",
              "      <th>office</th>\n",
              "      <th>candidate_info</th>\n",
              "      <th>votes</th>\n",
              "      <th>admin_area</th>\n",
              "      <th>number</th>\n",
              "      <th>party</th>\n",
              "    </tr>\n",
              "  </thead>\n",
              "  <tbody>\n",
              "    <tr>\n",
              "      <th>0</th>\n",
              "      <td>松山區</td>\n",
              "      <td>莊敬里</td>\n",
              "      <td>573.0</td>\n",
              "      <td>宋楚瑜/余湘</td>\n",
              "      <td>36</td>\n",
              "      <td>臺北市</td>\n",
              "      <td>1</td>\n",
              "      <td>親民黨</td>\n",
              "    </tr>\n",
              "    <tr>\n",
              "      <th>1</th>\n",
              "      <td>松山區</td>\n",
              "      <td>莊敬里</td>\n",
              "      <td>574.0</td>\n",
              "      <td>宋楚瑜/余湘</td>\n",
              "      <td>46</td>\n",
              "      <td>臺北市</td>\n",
              "      <td>1</td>\n",
              "      <td>親民黨</td>\n",
              "    </tr>\n",
              "    <tr>\n",
              "      <th>2</th>\n",
              "      <td>松山區</td>\n",
              "      <td>莊敬里</td>\n",
              "      <td>575.0</td>\n",
              "      <td>宋楚瑜/余湘</td>\n",
              "      <td>48</td>\n",
              "      <td>臺北市</td>\n",
              "      <td>1</td>\n",
              "      <td>親民黨</td>\n",
              "    </tr>\n",
              "    <tr>\n",
              "      <th>3</th>\n",
              "      <td>松山區</td>\n",
              "      <td>莊敬里</td>\n",
              "      <td>576.0</td>\n",
              "      <td>宋楚瑜/余湘</td>\n",
              "      <td>43</td>\n",
              "      <td>臺北市</td>\n",
              "      <td>1</td>\n",
              "      <td>親民黨</td>\n",
              "    </tr>\n",
              "    <tr>\n",
              "      <th>4</th>\n",
              "      <td>松山區</td>\n",
              "      <td>東榮里</td>\n",
              "      <td>577.0</td>\n",
              "      <td>宋楚瑜/余湘</td>\n",
              "      <td>38</td>\n",
              "      <td>臺北市</td>\n",
              "      <td>1</td>\n",
              "      <td>親民黨</td>\n",
              "    </tr>\n",
              "  </tbody>\n",
              "</table>\n",
              "</div>"
            ],
            "text/plain": [
              "  district village  office candidate_info votes admin_area number party\n",
              "0      松山區     莊敬里   573.0         宋楚瑜/余湘    36        臺北市      1   親民黨\n",
              "1      松山區     莊敬里   574.0         宋楚瑜/余湘    46        臺北市      1   親民黨\n",
              "2      松山區     莊敬里   575.0         宋楚瑜/余湘    48        臺北市      1   親民黨\n",
              "3      松山區     莊敬里   576.0         宋楚瑜/余湘    43        臺北市      1   親民黨\n",
              "4      松山區     東榮里   577.0         宋楚瑜/余湘    38        臺北市      1   親民黨"
            ]
          },
          "metadata": {
            "tags": []
          },
          "execution_count": 143
        }
      ]
    },
    {
      "cell_type": "code",
      "metadata": {
        "id": "wUM5btV9BXdZ"
      },
      "source": [
        "presidential_votes = presidential_votes[[\"admin_area\",\"district\", \"village\", \"office\", \"number\",\"party\", \"candidate_info\", \"votes\"]]\n"
      ],
      "execution_count": null,
      "outputs": []
    },
    {
      "cell_type": "code",
      "metadata": {
        "id": "Rm_Xgkk4Buzg",
        "outputId": "e0c85b1c-d4f6-4c5e-a207-51cf4be26fdc",
        "colab": {
          "base_uri": "https://localhost:8080/",
          "height": 206
        }
      },
      "source": [
        "presidential_votes.head()"
      ],
      "execution_count": null,
      "outputs": [
        {
          "output_type": "execute_result",
          "data": {
            "text/html": [
              "<div>\n",
              "<style scoped>\n",
              "    .dataframe tbody tr th:only-of-type {\n",
              "        vertical-align: middle;\n",
              "    }\n",
              "\n",
              "    .dataframe tbody tr th {\n",
              "        vertical-align: top;\n",
              "    }\n",
              "\n",
              "    .dataframe thead th {\n",
              "        text-align: right;\n",
              "    }\n",
              "</style>\n",
              "<table border=\"1\" class=\"dataframe\">\n",
              "  <thead>\n",
              "    <tr style=\"text-align: right;\">\n",
              "      <th></th>\n",
              "      <th>admin_area</th>\n",
              "      <th>district</th>\n",
              "      <th>village</th>\n",
              "      <th>office</th>\n",
              "      <th>number</th>\n",
              "      <th>party</th>\n",
              "      <th>candidate_info</th>\n",
              "      <th>votes</th>\n",
              "    </tr>\n",
              "  </thead>\n",
              "  <tbody>\n",
              "    <tr>\n",
              "      <th>0</th>\n",
              "      <td>臺北市</td>\n",
              "      <td>松山區</td>\n",
              "      <td>莊敬里</td>\n",
              "      <td>573</td>\n",
              "      <td>1</td>\n",
              "      <td>親民黨</td>\n",
              "      <td>宋楚瑜/余湘</td>\n",
              "      <td>36</td>\n",
              "    </tr>\n",
              "    <tr>\n",
              "      <th>1</th>\n",
              "      <td>臺北市</td>\n",
              "      <td>松山區</td>\n",
              "      <td>莊敬里</td>\n",
              "      <td>574</td>\n",
              "      <td>1</td>\n",
              "      <td>親民黨</td>\n",
              "      <td>宋楚瑜/余湘</td>\n",
              "      <td>46</td>\n",
              "    </tr>\n",
              "    <tr>\n",
              "      <th>2</th>\n",
              "      <td>臺北市</td>\n",
              "      <td>松山區</td>\n",
              "      <td>莊敬里</td>\n",
              "      <td>575</td>\n",
              "      <td>1</td>\n",
              "      <td>親民黨</td>\n",
              "      <td>宋楚瑜/余湘</td>\n",
              "      <td>48</td>\n",
              "    </tr>\n",
              "    <tr>\n",
              "      <th>3</th>\n",
              "      <td>臺北市</td>\n",
              "      <td>松山區</td>\n",
              "      <td>莊敬里</td>\n",
              "      <td>576</td>\n",
              "      <td>1</td>\n",
              "      <td>親民黨</td>\n",
              "      <td>宋楚瑜/余湘</td>\n",
              "      <td>43</td>\n",
              "    </tr>\n",
              "    <tr>\n",
              "      <th>4</th>\n",
              "      <td>臺北市</td>\n",
              "      <td>松山區</td>\n",
              "      <td>東榮里</td>\n",
              "      <td>577</td>\n",
              "      <td>1</td>\n",
              "      <td>親民黨</td>\n",
              "      <td>宋楚瑜/余湘</td>\n",
              "      <td>38</td>\n",
              "    </tr>\n",
              "  </tbody>\n",
              "</table>\n",
              "</div>"
            ],
            "text/plain": [
              "  admin_area district village  office  number party candidate_info  votes\n",
              "0        臺北市      松山區     莊敬里     573       1   親民黨         宋楚瑜/余湘     36\n",
              "1        臺北市      松山區     莊敬里     574       1   親民黨         宋楚瑜/余湘     46\n",
              "2        臺北市      松山區     莊敬里     575       1   親民黨         宋楚瑜/余湘     48\n",
              "3        臺北市      松山區     莊敬里     576       1   親民黨         宋楚瑜/余湘     43\n",
              "4        臺北市      松山區     東榮里     577       1   親民黨         宋楚瑜/余湘     38"
            ]
          },
          "metadata": {
            "tags": []
          },
          "execution_count": 153
        }
      ]
    },
    {
      "cell_type": "code",
      "metadata": {
        "id": "6awpAuTOB19e"
      },
      "source": [
        "presidential_votes.dtypes"
      ],
      "execution_count": null,
      "outputs": []
    },
    {
      "cell_type": "code",
      "metadata": {
        "id": "UUzezXbGCEY3"
      },
      "source": [
        "presidential_votes['number'] = presidential_votes['number'].astype(int)\n",
        "presidential_votes['office'] = presidential_votes['office'].astype(int)\n",
        "presidential_votes['votes'] = presidential_votes['votes'].astype(str)\n",
        "presidential_votes['votes'] = presidential_votes['votes'].str.replace(',', '').astype(int)"
      ],
      "execution_count": null,
      "outputs": []
    }
  ]
}